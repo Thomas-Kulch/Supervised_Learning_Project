{
 "cells": [
  {
   "cell_type": "markdown",
   "metadata": {},
   "source": [
    "# Sprint 8 Project - Supervised Learning"
   ]
  },
  {
   "cell_type": "markdown",
   "metadata": {},
   "source": [
    "## Introduction"
   ]
  },
  {
   "cell_type": "markdown",
   "metadata": {},
   "source": [
    "<div style=\"border-radius: 15px; border: 3px solid skyblue; padding: 15px;\">\n",
    "    \n",
    "In this project, I will be testing my skills with supervised learning by:\n",
    "    \n",
    "    - Preparing a dataset\n",
    "    - Investigating the balance of classes\n",
    "    - Training a model without taking class imbalance into account\n",
    "    - Improving the quality of my model"
   ]
  },
  {
   "cell_type": "markdown",
   "metadata": {},
   "source": [
    "<div style=\"border-radius: 15px; border: 3px solid skyblue; padding: 15px;\">\n",
    "    \n",
    "The task:\n",
    "    \n",
    "    Beta Bank customers are leaving: little by little, chipping away every month. The bankers figured out it’s cheaper to save the existing customers rather than to attract new ones.\n",
    "\n",
    "We need to predict whether a customer will leave the bank soon. I have the data on clients’ past behavior and termination of contracts with the bank."
   ]
  },
  {
   "cell_type": "code",
   "execution_count": 1,
   "metadata": {},
   "outputs": [],
   "source": [
    "#import libraries\n",
    "import pandas as pd\n",
    "import numpy as np\n",
    "import matplotlib.pyplot as plt\n",
    "import seaborn as sns\n",
    "\n",
    "from sklearn.preprocessing import OrdinalEncoder,StandardScaler\n",
    "\n",
    "from sklearn.metrics import accuracy_score,confusion_matrix,recall_score,precision_score,f1_score,roc_auc_score,roc_curve\n",
    "from sklearn.model_selection import train_test_split\n",
    "from sklearn.utils import shuffle\n",
    "\n",
    "from sklearn.ensemble import RandomForestClassifier\n",
    "from sklearn.linear_model import LogisticRegression\n",
    "\n",
    "import warnings\n",
    "warnings.filterwarnings('ignore')"
   ]
  },
  {
   "cell_type": "markdown",
   "metadata": {},
   "source": [
    "### Read data and Analyze"
   ]
  },
  {
   "cell_type": "code",
   "execution_count": 2,
   "metadata": {},
   "outputs": [],
   "source": [
    "#read data and analyze\n",
    "df = pd.read_csv('/datasets/Churn.csv')\n",
    "pd.options.mode.chained_assignment = None"
   ]
  },
  {
   "cell_type": "markdown",
   "metadata": {},
   "source": [
    "#### Data Descriptions\n",
    "\n",
    "***Features***\n",
    "\n",
    "RowNumber — data string index\n",
    "\n",
    "CustomerId — unique customer identifier\n",
    "\n",
    "Surname — surname\n",
    "\n",
    "CreditScore — credit score\n",
    "\n",
    "Geography — country of residence\n",
    "\n",
    "Gender — gender\n",
    "\n",
    "Age — age\n",
    "\n",
    "Tenure — period of maturation for a customer’s fixed deposit (years)\n",
    "\n",
    "Balance — account balance\n",
    "\n",
    "NumOfProducts — number of banking products used by the customer\n",
    "\n",
    "HasCrCard — customer has a credit card\n",
    "\n",
    "IsActiveMember — customer’s activeness\n",
    "\n",
    "EstimatedSalary — estimated salary\n",
    "\n",
    "***Target***\n",
    "\n",
    "Exited — сustomer has left\n"
   ]
  },
  {
   "cell_type": "code",
   "execution_count": 3,
   "metadata": {},
   "outputs": [
    {
     "name": "stdout",
     "output_type": "stream",
     "text": [
      "<class 'pandas.core.frame.DataFrame'>\n",
      "RangeIndex: 10000 entries, 0 to 9999\n",
      "Data columns (total 14 columns):\n",
      " #   Column           Non-Null Count  Dtype  \n",
      "---  ------           --------------  -----  \n",
      " 0   RowNumber        10000 non-null  int64  \n",
      " 1   CustomerId       10000 non-null  int64  \n",
      " 2   Surname          10000 non-null  object \n",
      " 3   CreditScore      10000 non-null  int64  \n",
      " 4   Geography        10000 non-null  object \n",
      " 5   Gender           10000 non-null  object \n",
      " 6   Age              10000 non-null  int64  \n",
      " 7   Tenure           9091 non-null   float64\n",
      " 8   Balance          10000 non-null  float64\n",
      " 9   NumOfProducts    10000 non-null  int64  \n",
      " 10  HasCrCard        10000 non-null  int64  \n",
      " 11  IsActiveMember   10000 non-null  int64  \n",
      " 12  EstimatedSalary  10000 non-null  float64\n",
      " 13  Exited           10000 non-null  int64  \n",
      "dtypes: float64(3), int64(8), object(3)\n",
      "memory usage: 1.1+ MB\n"
     ]
    }
   ],
   "source": [
    "# check the dataframe for missing values or data types that need to be changed\n",
    "df.info()"
   ]
  },
  {
   "cell_type": "code",
   "execution_count": 4,
   "metadata": {},
   "outputs": [
    {
     "data": {
      "text/html": [
       "<div>\n",
       "<style scoped>\n",
       "    .dataframe tbody tr th:only-of-type {\n",
       "        vertical-align: middle;\n",
       "    }\n",
       "\n",
       "    .dataframe tbody tr th {\n",
       "        vertical-align: top;\n",
       "    }\n",
       "\n",
       "    .dataframe thead th {\n",
       "        text-align: right;\n",
       "    }\n",
       "</style>\n",
       "<table border=\"1\" class=\"dataframe\">\n",
       "  <thead>\n",
       "    <tr style=\"text-align: right;\">\n",
       "      <th></th>\n",
       "      <th>RowNumber</th>\n",
       "      <th>CustomerId</th>\n",
       "      <th>Surname</th>\n",
       "      <th>CreditScore</th>\n",
       "      <th>Geography</th>\n",
       "      <th>Gender</th>\n",
       "      <th>Age</th>\n",
       "      <th>Tenure</th>\n",
       "      <th>Balance</th>\n",
       "      <th>NumOfProducts</th>\n",
       "      <th>HasCrCard</th>\n",
       "      <th>IsActiveMember</th>\n",
       "      <th>EstimatedSalary</th>\n",
       "      <th>Exited</th>\n",
       "    </tr>\n",
       "  </thead>\n",
       "  <tbody>\n",
       "    <tr>\n",
       "      <th>30</th>\n",
       "      <td>31</td>\n",
       "      <td>15589475</td>\n",
       "      <td>Azikiwe</td>\n",
       "      <td>591</td>\n",
       "      <td>Spain</td>\n",
       "      <td>Female</td>\n",
       "      <td>39</td>\n",
       "      <td>NaN</td>\n",
       "      <td>0.00</td>\n",
       "      <td>3</td>\n",
       "      <td>1</td>\n",
       "      <td>0</td>\n",
       "      <td>140469.38</td>\n",
       "      <td>1</td>\n",
       "    </tr>\n",
       "    <tr>\n",
       "      <th>48</th>\n",
       "      <td>49</td>\n",
       "      <td>15766205</td>\n",
       "      <td>Yin</td>\n",
       "      <td>550</td>\n",
       "      <td>Germany</td>\n",
       "      <td>Male</td>\n",
       "      <td>38</td>\n",
       "      <td>NaN</td>\n",
       "      <td>103391.38</td>\n",
       "      <td>1</td>\n",
       "      <td>0</td>\n",
       "      <td>1</td>\n",
       "      <td>90878.13</td>\n",
       "      <td>0</td>\n",
       "    </tr>\n",
       "    <tr>\n",
       "      <th>51</th>\n",
       "      <td>52</td>\n",
       "      <td>15768193</td>\n",
       "      <td>Trevisani</td>\n",
       "      <td>585</td>\n",
       "      <td>Germany</td>\n",
       "      <td>Male</td>\n",
       "      <td>36</td>\n",
       "      <td>NaN</td>\n",
       "      <td>146050.97</td>\n",
       "      <td>2</td>\n",
       "      <td>0</td>\n",
       "      <td>0</td>\n",
       "      <td>86424.57</td>\n",
       "      <td>0</td>\n",
       "    </tr>\n",
       "    <tr>\n",
       "      <th>53</th>\n",
       "      <td>54</td>\n",
       "      <td>15702298</td>\n",
       "      <td>Parkhill</td>\n",
       "      <td>655</td>\n",
       "      <td>Germany</td>\n",
       "      <td>Male</td>\n",
       "      <td>41</td>\n",
       "      <td>NaN</td>\n",
       "      <td>125561.97</td>\n",
       "      <td>1</td>\n",
       "      <td>0</td>\n",
       "      <td>0</td>\n",
       "      <td>164040.94</td>\n",
       "      <td>1</td>\n",
       "    </tr>\n",
       "    <tr>\n",
       "      <th>60</th>\n",
       "      <td>61</td>\n",
       "      <td>15651280</td>\n",
       "      <td>Hunter</td>\n",
       "      <td>742</td>\n",
       "      <td>Germany</td>\n",
       "      <td>Male</td>\n",
       "      <td>35</td>\n",
       "      <td>NaN</td>\n",
       "      <td>136857.00</td>\n",
       "      <td>1</td>\n",
       "      <td>0</td>\n",
       "      <td>0</td>\n",
       "      <td>84509.57</td>\n",
       "      <td>0</td>\n",
       "    </tr>\n",
       "    <tr>\n",
       "      <th>...</th>\n",
       "      <td>...</td>\n",
       "      <td>...</td>\n",
       "      <td>...</td>\n",
       "      <td>...</td>\n",
       "      <td>...</td>\n",
       "      <td>...</td>\n",
       "      <td>...</td>\n",
       "      <td>...</td>\n",
       "      <td>...</td>\n",
       "      <td>...</td>\n",
       "      <td>...</td>\n",
       "      <td>...</td>\n",
       "      <td>...</td>\n",
       "      <td>...</td>\n",
       "    </tr>\n",
       "    <tr>\n",
       "      <th>9944</th>\n",
       "      <td>9945</td>\n",
       "      <td>15703923</td>\n",
       "      <td>Cameron</td>\n",
       "      <td>744</td>\n",
       "      <td>Germany</td>\n",
       "      <td>Male</td>\n",
       "      <td>41</td>\n",
       "      <td>NaN</td>\n",
       "      <td>190409.34</td>\n",
       "      <td>2</td>\n",
       "      <td>1</td>\n",
       "      <td>1</td>\n",
       "      <td>138361.48</td>\n",
       "      <td>0</td>\n",
       "    </tr>\n",
       "    <tr>\n",
       "      <th>9956</th>\n",
       "      <td>9957</td>\n",
       "      <td>15707861</td>\n",
       "      <td>Nucci</td>\n",
       "      <td>520</td>\n",
       "      <td>France</td>\n",
       "      <td>Female</td>\n",
       "      <td>46</td>\n",
       "      <td>NaN</td>\n",
       "      <td>85216.61</td>\n",
       "      <td>1</td>\n",
       "      <td>1</td>\n",
       "      <td>0</td>\n",
       "      <td>117369.52</td>\n",
       "      <td>1</td>\n",
       "    </tr>\n",
       "    <tr>\n",
       "      <th>9964</th>\n",
       "      <td>9965</td>\n",
       "      <td>15642785</td>\n",
       "      <td>Douglas</td>\n",
       "      <td>479</td>\n",
       "      <td>France</td>\n",
       "      <td>Male</td>\n",
       "      <td>34</td>\n",
       "      <td>NaN</td>\n",
       "      <td>117593.48</td>\n",
       "      <td>2</td>\n",
       "      <td>0</td>\n",
       "      <td>0</td>\n",
       "      <td>113308.29</td>\n",
       "      <td>0</td>\n",
       "    </tr>\n",
       "    <tr>\n",
       "      <th>9985</th>\n",
       "      <td>9986</td>\n",
       "      <td>15586914</td>\n",
       "      <td>Nepean</td>\n",
       "      <td>659</td>\n",
       "      <td>France</td>\n",
       "      <td>Male</td>\n",
       "      <td>36</td>\n",
       "      <td>NaN</td>\n",
       "      <td>123841.49</td>\n",
       "      <td>2</td>\n",
       "      <td>1</td>\n",
       "      <td>0</td>\n",
       "      <td>96833.00</td>\n",
       "      <td>0</td>\n",
       "    </tr>\n",
       "    <tr>\n",
       "      <th>9999</th>\n",
       "      <td>10000</td>\n",
       "      <td>15628319</td>\n",
       "      <td>Walker</td>\n",
       "      <td>792</td>\n",
       "      <td>France</td>\n",
       "      <td>Female</td>\n",
       "      <td>28</td>\n",
       "      <td>NaN</td>\n",
       "      <td>130142.79</td>\n",
       "      <td>1</td>\n",
       "      <td>1</td>\n",
       "      <td>0</td>\n",
       "      <td>38190.78</td>\n",
       "      <td>0</td>\n",
       "    </tr>\n",
       "  </tbody>\n",
       "</table>\n",
       "<p>909 rows × 14 columns</p>\n",
       "</div>"
      ],
      "text/plain": [
       "      RowNumber  CustomerId    Surname  CreditScore Geography  Gender  Age  \\\n",
       "30           31    15589475    Azikiwe          591     Spain  Female   39   \n",
       "48           49    15766205        Yin          550   Germany    Male   38   \n",
       "51           52    15768193  Trevisani          585   Germany    Male   36   \n",
       "53           54    15702298   Parkhill          655   Germany    Male   41   \n",
       "60           61    15651280     Hunter          742   Germany    Male   35   \n",
       "...         ...         ...        ...          ...       ...     ...  ...   \n",
       "9944       9945    15703923    Cameron          744   Germany    Male   41   \n",
       "9956       9957    15707861      Nucci          520    France  Female   46   \n",
       "9964       9965    15642785    Douglas          479    France    Male   34   \n",
       "9985       9986    15586914     Nepean          659    France    Male   36   \n",
       "9999      10000    15628319     Walker          792    France  Female   28   \n",
       "\n",
       "      Tenure    Balance  NumOfProducts  HasCrCard  IsActiveMember  \\\n",
       "30       NaN       0.00              3          1               0   \n",
       "48       NaN  103391.38              1          0               1   \n",
       "51       NaN  146050.97              2          0               0   \n",
       "53       NaN  125561.97              1          0               0   \n",
       "60       NaN  136857.00              1          0               0   \n",
       "...      ...        ...            ...        ...             ...   \n",
       "9944     NaN  190409.34              2          1               1   \n",
       "9956     NaN   85216.61              1          1               0   \n",
       "9964     NaN  117593.48              2          0               0   \n",
       "9985     NaN  123841.49              2          1               0   \n",
       "9999     NaN  130142.79              1          1               0   \n",
       "\n",
       "      EstimatedSalary  Exited  \n",
       "30          140469.38       1  \n",
       "48           90878.13       0  \n",
       "51           86424.57       0  \n",
       "53          164040.94       1  \n",
       "60           84509.57       0  \n",
       "...               ...     ...  \n",
       "9944        138361.48       0  \n",
       "9956        117369.52       1  \n",
       "9964        113308.29       0  \n",
       "9985         96833.00       0  \n",
       "9999         38190.78       0  \n",
       "\n",
       "[909 rows x 14 columns]"
      ]
     },
     "execution_count": 4,
     "metadata": {},
     "output_type": "execute_result"
    }
   ],
   "source": [
    "#investigate the missing values in the Tenure feature\n",
    "df[df['Tenure'].isna()]"
   ]
  },
  {
   "cell_type": "code",
   "execution_count": 5,
   "metadata": {},
   "outputs": [
    {
     "data": {
      "text/html": [
       "<div>\n",
       "<style scoped>\n",
       "    .dataframe tbody tr th:only-of-type {\n",
       "        vertical-align: middle;\n",
       "    }\n",
       "\n",
       "    .dataframe tbody tr th {\n",
       "        vertical-align: top;\n",
       "    }\n",
       "\n",
       "    .dataframe thead th {\n",
       "        text-align: right;\n",
       "    }\n",
       "</style>\n",
       "<table border=\"1\" class=\"dataframe\">\n",
       "  <thead>\n",
       "    <tr style=\"text-align: right;\">\n",
       "      <th></th>\n",
       "      <th>RowNumber</th>\n",
       "      <th>CustomerId</th>\n",
       "      <th>Surname</th>\n",
       "      <th>CreditScore</th>\n",
       "      <th>Geography</th>\n",
       "      <th>Gender</th>\n",
       "      <th>Age</th>\n",
       "      <th>Tenure</th>\n",
       "      <th>Balance</th>\n",
       "      <th>NumOfProducts</th>\n",
       "      <th>HasCrCard</th>\n",
       "      <th>IsActiveMember</th>\n",
       "      <th>EstimatedSalary</th>\n",
       "      <th>Exited</th>\n",
       "    </tr>\n",
       "  </thead>\n",
       "  <tbody>\n",
       "    <tr>\n",
       "      <th>9367</th>\n",
       "      <td>9368</td>\n",
       "      <td>15785024</td>\n",
       "      <td>Warner</td>\n",
       "      <td>629</td>\n",
       "      <td>France</td>\n",
       "      <td>Female</td>\n",
       "      <td>40</td>\n",
       "      <td>9.0</td>\n",
       "      <td>137409.19</td>\n",
       "      <td>1</td>\n",
       "      <td>1</td>\n",
       "      <td>0</td>\n",
       "      <td>175877.70</td>\n",
       "      <td>1</td>\n",
       "    </tr>\n",
       "    <tr>\n",
       "      <th>7507</th>\n",
       "      <td>7508</td>\n",
       "      <td>15642001</td>\n",
       "      <td>Lorenzen</td>\n",
       "      <td>576</td>\n",
       "      <td>Germany</td>\n",
       "      <td>Male</td>\n",
       "      <td>44</td>\n",
       "      <td>9.0</td>\n",
       "      <td>119530.52</td>\n",
       "      <td>1</td>\n",
       "      <td>1</td>\n",
       "      <td>0</td>\n",
       "      <td>119056.68</td>\n",
       "      <td>1</td>\n",
       "    </tr>\n",
       "    <tr>\n",
       "      <th>7686</th>\n",
       "      <td>7687</td>\n",
       "      <td>15675450</td>\n",
       "      <td>Burt</td>\n",
       "      <td>718</td>\n",
       "      <td>France</td>\n",
       "      <td>Male</td>\n",
       "      <td>48</td>\n",
       "      <td>9.0</td>\n",
       "      <td>0.00</td>\n",
       "      <td>2</td>\n",
       "      <td>1</td>\n",
       "      <td>1</td>\n",
       "      <td>72105.63</td>\n",
       "      <td>0</td>\n",
       "    </tr>\n",
       "    <tr>\n",
       "      <th>5721</th>\n",
       "      <td>5722</td>\n",
       "      <td>15643671</td>\n",
       "      <td>Chiekwugo</td>\n",
       "      <td>696</td>\n",
       "      <td>Germany</td>\n",
       "      <td>Male</td>\n",
       "      <td>49</td>\n",
       "      <td>5.0</td>\n",
       "      <td>97036.22</td>\n",
       "      <td>2</td>\n",
       "      <td>1</td>\n",
       "      <td>0</td>\n",
       "      <td>152450.84</td>\n",
       "      <td>1</td>\n",
       "    </tr>\n",
       "    <tr>\n",
       "      <th>3741</th>\n",
       "      <td>3742</td>\n",
       "      <td>15635396</td>\n",
       "      <td>Thompson</td>\n",
       "      <td>738</td>\n",
       "      <td>Germany</td>\n",
       "      <td>Female</td>\n",
       "      <td>29</td>\n",
       "      <td>9.0</td>\n",
       "      <td>139106.19</td>\n",
       "      <td>1</td>\n",
       "      <td>1</td>\n",
       "      <td>0</td>\n",
       "      <td>141872.05</td>\n",
       "      <td>1</td>\n",
       "    </tr>\n",
       "  </tbody>\n",
       "</table>\n",
       "</div>"
      ],
      "text/plain": [
       "      RowNumber  CustomerId    Surname  CreditScore Geography  Gender  Age  \\\n",
       "9367       9368    15785024     Warner          629    France  Female   40   \n",
       "7507       7508    15642001   Lorenzen          576   Germany    Male   44   \n",
       "7686       7687    15675450       Burt          718    France    Male   48   \n",
       "5721       5722    15643671  Chiekwugo          696   Germany    Male   49   \n",
       "3741       3742    15635396   Thompson          738   Germany  Female   29   \n",
       "\n",
       "      Tenure    Balance  NumOfProducts  HasCrCard  IsActiveMember  \\\n",
       "9367     9.0  137409.19              1          1               0   \n",
       "7507     9.0  119530.52              1          1               0   \n",
       "7686     9.0       0.00              2          1               1   \n",
       "5721     5.0   97036.22              2          1               0   \n",
       "3741     9.0  139106.19              1          1               0   \n",
       "\n",
       "      EstimatedSalary  Exited  \n",
       "9367        175877.70       1  \n",
       "7507        119056.68       1  \n",
       "7686         72105.63       0  \n",
       "5721        152450.84       1  \n",
       "3741        141872.05       1  "
      ]
     },
     "execution_count": 5,
     "metadata": {},
     "output_type": "execute_result"
    }
   ],
   "source": [
    "#checking random samples of records where Tenure is not NaN\n",
    "df[df['Tenure'].notna()].sample(5)"
   ]
  },
  {
   "cell_type": "code",
   "execution_count": 6,
   "metadata": {},
   "outputs": [
    {
     "data": {
      "text/plain": [
       "1.0     952\n",
       "2.0     950\n",
       "8.0     933\n",
       "3.0     928\n",
       "5.0     927\n",
       "7.0     925\n",
       "NaN     909\n",
       "4.0     885\n",
       "9.0     882\n",
       "6.0     881\n",
       "10.0    446\n",
       "0.0     382\n",
       "Name: Tenure, dtype: int64"
      ]
     },
     "execution_count": 6,
     "metadata": {},
     "output_type": "execute_result"
    }
   ],
   "source": [
    "#check the value counts for the Tenure field to see if there are other 0's in the data\n",
    "df['Tenure'].value_counts(dropna=False)"
   ]
  },
  {
   "cell_type": "markdown",
   "metadata": {},
   "source": [
    "#### <span style=\"color:skyblue\">Observations</span>\n",
    "<div style=\"border-radius: 15px; border: 3px solid skyblue; padding: 15px;\">\n",
    "\n",
    "Based on the research and the description of the Tenure field, this feature only shows whole years a customer has been with the bank, so NaN values likely mean that a customer has not been with the bank for a full year.\n",
    "    \n",
    "We can confidently fill these NaN's with 0"
   ]
  },
  {
   "cell_type": "markdown",
   "metadata": {},
   "source": [
    "<font color='dodgerblue'>**Student Comment:**</font>: There are 0 values already in the data. I believe the NaN values could mean that they don't know the Tenure and they could mean anything. \n",
    "\n",
    "I think its safe to put them as 0 because it could mean they have a brand new account and there's no other qualities from any other field (such as start date) that would help us determine a way to fill these NaN's. An existing value of 0 could mean they've been with the bank <1 year and NaN could mean they're brand new, which would also be <1 year. \n",
    "\n",
    "Do you think filling them with random values is a safe thing to do? Maybe a mean/median value if you think that's better than 0."
   ]
  },
  {
   "cell_type": "code",
   "execution_count": 7,
   "metadata": {},
   "outputs": [],
   "source": [
    "#fill the NaN values in the Tenure feature with 0\n",
    "df['Tenure'] = df['Tenure'].fillna(value=0)"
   ]
  },
  {
   "cell_type": "code",
   "execution_count": 8,
   "metadata": {},
   "outputs": [
    {
     "name": "stdout",
     "output_type": "stream",
     "text": [
      "<class 'pandas.core.frame.DataFrame'>\n",
      "RangeIndex: 10000 entries, 0 to 9999\n",
      "Data columns (total 14 columns):\n",
      " #   Column           Non-Null Count  Dtype  \n",
      "---  ------           --------------  -----  \n",
      " 0   RowNumber        10000 non-null  int64  \n",
      " 1   CustomerId       10000 non-null  int64  \n",
      " 2   Surname          10000 non-null  object \n",
      " 3   CreditScore      10000 non-null  int64  \n",
      " 4   Geography        10000 non-null  object \n",
      " 5   Gender           10000 non-null  object \n",
      " 6   Age              10000 non-null  int64  \n",
      " 7   Tenure           10000 non-null  float64\n",
      " 8   Balance          10000 non-null  float64\n",
      " 9   NumOfProducts    10000 non-null  int64  \n",
      " 10  HasCrCard        10000 non-null  int64  \n",
      " 11  IsActiveMember   10000 non-null  int64  \n",
      " 12  EstimatedSalary  10000 non-null  float64\n",
      " 13  Exited           10000 non-null  int64  \n",
      "dtypes: float64(3), int64(8), object(3)\n",
      "memory usage: 1.1+ MB\n"
     ]
    }
   ],
   "source": [
    "#look at the dataframe info after the update\n",
    "df.info()"
   ]
  },
  {
   "cell_type": "code",
   "execution_count": 9,
   "metadata": {
    "scrolled": true
   },
   "outputs": [
    {
     "data": {
      "text/plain": [
       "0"
      ]
     },
     "execution_count": 9,
     "metadata": {},
     "output_type": "execute_result"
    }
   ],
   "source": [
    "#check for duplicates\n",
    "df.duplicated().sum()"
   ]
  },
  {
   "cell_type": "code",
   "execution_count": 10,
   "metadata": {},
   "outputs": [
    {
     "data": {
      "text/plain": [
       "0"
      ]
     },
     "execution_count": 10,
     "metadata": {},
     "output_type": "execute_result"
    }
   ],
   "source": [
    "#check if there are duplicate CustomerId's\n",
    "df['CustomerId'].duplicated().sum()"
   ]
  },
  {
   "cell_type": "code",
   "execution_count": 11,
   "metadata": {
    "scrolled": false
   },
   "outputs": [
    {
     "data": {
      "image/png": "[encoded data removed]",
      "text/plain": [
       "<Figure size 1080x864 with 1 Axes>"
      ]
     },
     "metadata": {
      "needs_background": "light"
     },
     "output_type": "display_data"
    }
   ],
   "source": [
    "#visualizations\n",
    "\n",
    "#Credit Scores by Age\n",
    "plt.figure(figsize=(15, 12))\n",
    "plt.scatter(df['Age'],df['CreditScore'],color='darkorange')\n",
    "plt.xlabel('Age')\n",
    "plt.ylabel('Credit Score')\n",
    "plt.title('Age vs. Credit Score')\n",
    "plt.show()"
   ]
  },
  {
   "cell_type": "markdown",
   "metadata": {},
   "source": [
    "#### <span style=\"color:skyblue\">Observations </span>\n",
    "<div style=\"border-radius: 15px; border: 3px solid skyblue; padding: 15px;\">\n",
    "    \n",
    "Users credit scores don't seem to be correlated with Age at first glance. They are all over the place for every age group."
   ]
  },
  {
   "cell_type": "code",
   "execution_count": 12,
   "metadata": {},
   "outputs": [
    {
     "data": {
      "image/png": "[encoded data removed]",
      "text/plain": [
       "<Figure size 864x720 with 1 Axes>"
      ]
     },
     "metadata": {
      "needs_background": "light"
     },
     "output_type": "display_data"
    }
   ],
   "source": [
    "#Average Balance by Geography\n",
    "avg_balance_by_location = df.groupby(['Geography'])['Balance'].mean()\n",
    "\n",
    "\n",
    "avg_balance_by_location.plot(kind='bar',\n",
    "                            figsize=(12, 10),\n",
    "                            rot=45,\n",
    "                            title='Average Balance by Location',\n",
    "                            xlabel='Location',\n",
    "                            ylabel='Average Balance')\n",
    "\n",
    "\n",
    "plt.show()"
   ]
  },
  {
   "cell_type": "markdown",
   "metadata": {},
   "source": [
    "#### <span style=\"color:skyblue\">Observations</span>\n",
    "<div style=\"border-radius: 15px; border: 3px solid skyblue; padding: 15px;\">\n",
    "    \n",
    "Germans appear to be bringing in the most money for the bank! We'll want to make sure they stay."
   ]
  },
  {
   "cell_type": "code",
   "execution_count": 13,
   "metadata": {
    "scrolled": false
   },
   "outputs": [
    {
     "data": {
      "image/png": "[encoded data removed]",
      "text/plain": [
       "<Figure size 864x720 with 1 Axes>"
      ]
     },
     "metadata": {
      "needs_background": "light"
     },
     "output_type": "display_data"
    }
   ],
   "source": [
    "#Average Credit Score By Tenure\n",
    "avg_credit_by_tenure = df.groupby(['Tenure'])['CreditScore'].mean()\n",
    "\n",
    "avg_credit_by_tenure.plot(kind='bar',\n",
    "                            figsize=(12, 10),\n",
    "                            rot=45,\n",
    "                            color='orange',\n",
    "                            title='Average Credit Score by Tenure Length',\n",
    "                            xlabel='Tenure (In Years)',\n",
    "                            ylabel='Average Credit Score')\n",
    "\n",
    "\n",
    "plt.show()"
   ]
  },
  {
   "cell_type": "markdown",
   "metadata": {},
   "source": [
    "#### <span style=\"color:skyblue\">Observations </span>\n",
    "<div style=\"border-radius: 15px; border: 3px solid skyblue; padding: 15px;\">\n",
    "    \n",
    "The average credit scores are very even accross the board. Staying with the bank longer doesn't seem to improve average credit score and new users don't tend to have weaker credit scores."
   ]
  },
  {
   "cell_type": "markdown",
   "metadata": {},
   "source": [
    "#### <span style=\"color:skyblue\">Final Observations of the Data</span>\n",
    "<div style=\"border-radius: 15px; border: 3px solid skyblue; padding: 15px;\">\n",
    "    \n",
    "This dataset has been cleaned and has no missing values, duplicates, and no longer contains missing values.\n",
    "    \n",
    "I plotted some graphs to get a better understanding of the data we are working with.\n",
    "    \n",
    "The data is ready for feature preparation."
   ]
  },
  {
   "cell_type": "markdown",
   "metadata": {},
   "source": [
    "### Feature Preparation"
   ]
  },
  {
   "cell_type": "markdown",
   "metadata": {},
   "source": [
    "#### <span style=\"color:skyblue\">Plan</span>\n",
    "<div style=\"border-radius: 15px; border: 3px solid skyblue; padding: 15px;\">\n",
    "    \n",
    "I will test out Logistic Regression and Random Forest models to see which one is best"
   ]
  },
  {
   "cell_type": "markdown",
   "metadata": {},
   "source": [
    "##### One Hot Encoding for Logistic Regression"
   ]
  },
  {
   "cell_type": "code",
   "execution_count": 14,
   "metadata": {},
   "outputs": [],
   "source": [
    "data_ohe = pd.get_dummies(df, drop_first=True)"
   ]
  },
  {
   "cell_type": "code",
   "execution_count": 15,
   "metadata": {},
   "outputs": [
    {
     "data": {
      "text/html": [
       "<div>\n",
       "<style scoped>\n",
       "    .dataframe tbody tr th:only-of-type {\n",
       "        vertical-align: middle;\n",
       "    }\n",
       "\n",
       "    .dataframe tbody tr th {\n",
       "        vertical-align: top;\n",
       "    }\n",
       "\n",
       "    .dataframe thead th {\n",
       "        text-align: right;\n",
       "    }\n",
       "</style>\n",
       "<table border=\"1\" class=\"dataframe\">\n",
       "  <thead>\n",
       "    <tr style=\"text-align: right;\">\n",
       "      <th></th>\n",
       "      <th>RowNumber</th>\n",
       "      <th>CustomerId</th>\n",
       "      <th>CreditScore</th>\n",
       "      <th>Age</th>\n",
       "      <th>Tenure</th>\n",
       "      <th>Balance</th>\n",
       "      <th>NumOfProducts</th>\n",
       "      <th>HasCrCard</th>\n",
       "      <th>IsActiveMember</th>\n",
       "      <th>EstimatedSalary</th>\n",
       "      <th>...</th>\n",
       "      <th>Surname_Zotova</th>\n",
       "      <th>Surname_Zox</th>\n",
       "      <th>Surname_Zubarev</th>\n",
       "      <th>Surname_Zubareva</th>\n",
       "      <th>Surname_Zuev</th>\n",
       "      <th>Surname_Zuyev</th>\n",
       "      <th>Surname_Zuyeva</th>\n",
       "      <th>Geography_Germany</th>\n",
       "      <th>Geography_Spain</th>\n",
       "      <th>Gender_Male</th>\n",
       "    </tr>\n",
       "  </thead>\n",
       "  <tbody>\n",
       "    <tr>\n",
       "      <th>4997</th>\n",
       "      <td>4998</td>\n",
       "      <td>15613886</td>\n",
       "      <td>722</td>\n",
       "      <td>43</td>\n",
       "      <td>1.0</td>\n",
       "      <td>0.00</td>\n",
       "      <td>1</td>\n",
       "      <td>1</td>\n",
       "      <td>0</td>\n",
       "      <td>44560.17</td>\n",
       "      <td>...</td>\n",
       "      <td>0</td>\n",
       "      <td>0</td>\n",
       "      <td>0</td>\n",
       "      <td>0</td>\n",
       "      <td>0</td>\n",
       "      <td>0</td>\n",
       "      <td>0</td>\n",
       "      <td>0</td>\n",
       "      <td>1</td>\n",
       "      <td>1</td>\n",
       "    </tr>\n",
       "    <tr>\n",
       "      <th>8749</th>\n",
       "      <td>8750</td>\n",
       "      <td>15701238</td>\n",
       "      <td>683</td>\n",
       "      <td>47</td>\n",
       "      <td>1.0</td>\n",
       "      <td>0.00</td>\n",
       "      <td>2</td>\n",
       "      <td>1</td>\n",
       "      <td>0</td>\n",
       "      <td>148989.15</td>\n",
       "      <td>...</td>\n",
       "      <td>0</td>\n",
       "      <td>0</td>\n",
       "      <td>0</td>\n",
       "      <td>0</td>\n",
       "      <td>0</td>\n",
       "      <td>0</td>\n",
       "      <td>0</td>\n",
       "      <td>0</td>\n",
       "      <td>0</td>\n",
       "      <td>1</td>\n",
       "    </tr>\n",
       "    <tr>\n",
       "      <th>4220</th>\n",
       "      <td>4221</td>\n",
       "      <td>15711314</td>\n",
       "      <td>589</td>\n",
       "      <td>45</td>\n",
       "      <td>1.0</td>\n",
       "      <td>0.00</td>\n",
       "      <td>1</td>\n",
       "      <td>0</td>\n",
       "      <td>0</td>\n",
       "      <td>125939.22</td>\n",
       "      <td>...</td>\n",
       "      <td>0</td>\n",
       "      <td>0</td>\n",
       "      <td>0</td>\n",
       "      <td>0</td>\n",
       "      <td>0</td>\n",
       "      <td>0</td>\n",
       "      <td>0</td>\n",
       "      <td>0</td>\n",
       "      <td>1</td>\n",
       "      <td>0</td>\n",
       "    </tr>\n",
       "    <tr>\n",
       "      <th>4116</th>\n",
       "      <td>4117</td>\n",
       "      <td>15748068</td>\n",
       "      <td>571</td>\n",
       "      <td>31</td>\n",
       "      <td>3.0</td>\n",
       "      <td>0.00</td>\n",
       "      <td>2</td>\n",
       "      <td>1</td>\n",
       "      <td>1</td>\n",
       "      <td>194667.92</td>\n",
       "      <td>...</td>\n",
       "      <td>0</td>\n",
       "      <td>0</td>\n",
       "      <td>0</td>\n",
       "      <td>0</td>\n",
       "      <td>0</td>\n",
       "      <td>0</td>\n",
       "      <td>0</td>\n",
       "      <td>0</td>\n",
       "      <td>1</td>\n",
       "      <td>0</td>\n",
       "    </tr>\n",
       "    <tr>\n",
       "      <th>6364</th>\n",
       "      <td>6365</td>\n",
       "      <td>15663421</td>\n",
       "      <td>527</td>\n",
       "      <td>28</td>\n",
       "      <td>6.0</td>\n",
       "      <td>128396.33</td>\n",
       "      <td>2</td>\n",
       "      <td>1</td>\n",
       "      <td>0</td>\n",
       "      <td>79919.97</td>\n",
       "      <td>...</td>\n",
       "      <td>0</td>\n",
       "      <td>0</td>\n",
       "      <td>0</td>\n",
       "      <td>0</td>\n",
       "      <td>0</td>\n",
       "      <td>0</td>\n",
       "      <td>0</td>\n",
       "      <td>0</td>\n",
       "      <td>1</td>\n",
       "      <td>1</td>\n",
       "    </tr>\n",
       "  </tbody>\n",
       "</table>\n",
       "<p>5 rows × 2945 columns</p>\n",
       "</div>"
      ],
      "text/plain": [
       "      RowNumber  CustomerId  CreditScore  Age  Tenure    Balance  \\\n",
       "4997       4998    15613886          722   43     1.0       0.00   \n",
       "8749       8750    15701238          683   47     1.0       0.00   \n",
       "4220       4221    15711314          589   45     1.0       0.00   \n",
       "4116       4117    15748068          571   31     3.0       0.00   \n",
       "6364       6365    15663421          527   28     6.0  128396.33   \n",
       "\n",
       "      NumOfProducts  HasCrCard  IsActiveMember  EstimatedSalary  ...  \\\n",
       "4997              1          1               0         44560.17  ...   \n",
       "8749              2          1               0        148989.15  ...   \n",
       "4220              1          0               0        125939.22  ...   \n",
       "4116              2          1               1        194667.92  ...   \n",
       "6364              2          1               0         79919.97  ...   \n",
       "\n",
       "      Surname_Zotova  Surname_Zox  Surname_Zubarev  Surname_Zubareva  \\\n",
       "4997               0            0                0                 0   \n",
       "8749               0            0                0                 0   \n",
       "4220               0            0                0                 0   \n",
       "4116               0            0                0                 0   \n",
       "6364               0            0                0                 0   \n",
       "\n",
       "      Surname_Zuev  Surname_Zuyev  Surname_Zuyeva  Geography_Germany  \\\n",
       "4997             0              0               0                  0   \n",
       "8749             0              0               0                  0   \n",
       "4220             0              0               0                  0   \n",
       "4116             0              0               0                  0   \n",
       "6364             0              0               0                  0   \n",
       "\n",
       "      Geography_Spain  Gender_Male  \n",
       "4997                1            1  \n",
       "8749                0            1  \n",
       "4220                1            0  \n",
       "4116                1            0  \n",
       "6364                1            1  \n",
       "\n",
       "[5 rows x 2945 columns]"
      ]
     },
     "execution_count": 15,
     "metadata": {},
     "output_type": "execute_result"
    }
   ],
   "source": [
    "data_ohe.sample(5)"
   ]
  },
  {
   "cell_type": "markdown",
   "metadata": {},
   "source": [
    "##### <span style=\"color:skyblue\">Observations</span>\n",
    "<div style=\"border-radius: 15px; border: 3px solid skyblue; padding: 15px;\">\n",
    "    \n",
    "We can see above that using OHE produces a dataframe with 2945 columns. This is a lot of columns to work with, but I will attempt a Logistic Regression model anyways."
   ]
  },
  {
   "cell_type": "markdown",
   "metadata": {},
   "source": [
    "##### Ordinal Encoding for Random Forest Classifier"
   ]
  },
  {
   "cell_type": "code",
   "execution_count": 16,
   "metadata": {},
   "outputs": [],
   "source": [
    "#Create an instance of the class\n",
    "encoder = OrdinalEncoder()\n",
    "\n",
    "#train and transform the data\n",
    "df_ordinal = pd.DataFrame(encoder.fit_transform(df),columns=df.columns)"
   ]
  },
  {
   "cell_type": "code",
   "execution_count": 17,
   "metadata": {
    "scrolled": true
   },
   "outputs": [
    {
     "data": {
      "text/html": [
       "<div>\n",
       "<style scoped>\n",
       "    .dataframe tbody tr th:only-of-type {\n",
       "        vertical-align: middle;\n",
       "    }\n",
       "\n",
       "    .dataframe tbody tr th {\n",
       "        vertical-align: top;\n",
       "    }\n",
       "\n",
       "    .dataframe thead th {\n",
       "        text-align: right;\n",
       "    }\n",
       "</style>\n",
       "<table border=\"1\" class=\"dataframe\">\n",
       "  <thead>\n",
       "    <tr style=\"text-align: right;\">\n",
       "      <th></th>\n",
       "      <th>RowNumber</th>\n",
       "      <th>CustomerId</th>\n",
       "      <th>Surname</th>\n",
       "      <th>CreditScore</th>\n",
       "      <th>Geography</th>\n",
       "      <th>Gender</th>\n",
       "      <th>Age</th>\n",
       "      <th>Tenure</th>\n",
       "      <th>Balance</th>\n",
       "      <th>NumOfProducts</th>\n",
       "      <th>HasCrCard</th>\n",
       "      <th>IsActiveMember</th>\n",
       "      <th>EstimatedSalary</th>\n",
       "      <th>Exited</th>\n",
       "    </tr>\n",
       "  </thead>\n",
       "  <tbody>\n",
       "    <tr>\n",
       "      <th>0</th>\n",
       "      <td>0.0</td>\n",
       "      <td>2736.0</td>\n",
       "      <td>1115.0</td>\n",
       "      <td>228.0</td>\n",
       "      <td>0.0</td>\n",
       "      <td>0.0</td>\n",
       "      <td>24.0</td>\n",
       "      <td>2.0</td>\n",
       "      <td>0.0</td>\n",
       "      <td>0.0</td>\n",
       "      <td>1.0</td>\n",
       "      <td>1.0</td>\n",
       "      <td>5068.0</td>\n",
       "      <td>1.0</td>\n",
       "    </tr>\n",
       "    <tr>\n",
       "      <th>1</th>\n",
       "      <td>1.0</td>\n",
       "      <td>3258.0</td>\n",
       "      <td>1177.0</td>\n",
       "      <td>217.0</td>\n",
       "      <td>2.0</td>\n",
       "      <td>0.0</td>\n",
       "      <td>23.0</td>\n",
       "      <td>1.0</td>\n",
       "      <td>743.0</td>\n",
       "      <td>0.0</td>\n",
       "      <td>0.0</td>\n",
       "      <td>1.0</td>\n",
       "      <td>5639.0</td>\n",
       "      <td>0.0</td>\n",
       "    </tr>\n",
       "    <tr>\n",
       "      <th>2</th>\n",
       "      <td>2.0</td>\n",
       "      <td>2104.0</td>\n",
       "      <td>2040.0</td>\n",
       "      <td>111.0</td>\n",
       "      <td>0.0</td>\n",
       "      <td>0.0</td>\n",
       "      <td>24.0</td>\n",
       "      <td>8.0</td>\n",
       "      <td>5793.0</td>\n",
       "      <td>2.0</td>\n",
       "      <td>1.0</td>\n",
       "      <td>0.0</td>\n",
       "      <td>5707.0</td>\n",
       "      <td>1.0</td>\n",
       "    </tr>\n",
       "    <tr>\n",
       "      <th>3</th>\n",
       "      <td>3.0</td>\n",
       "      <td>5435.0</td>\n",
       "      <td>289.0</td>\n",
       "      <td>308.0</td>\n",
       "      <td>0.0</td>\n",
       "      <td>0.0</td>\n",
       "      <td>21.0</td>\n",
       "      <td>1.0</td>\n",
       "      <td>0.0</td>\n",
       "      <td>1.0</td>\n",
       "      <td>0.0</td>\n",
       "      <td>0.0</td>\n",
       "      <td>4704.0</td>\n",
       "      <td>0.0</td>\n",
       "    </tr>\n",
       "    <tr>\n",
       "      <th>4</th>\n",
       "      <td>4.0</td>\n",
       "      <td>6899.0</td>\n",
       "      <td>1822.0</td>\n",
       "      <td>459.0</td>\n",
       "      <td>2.0</td>\n",
       "      <td>0.0</td>\n",
       "      <td>25.0</td>\n",
       "      <td>2.0</td>\n",
       "      <td>3696.0</td>\n",
       "      <td>0.0</td>\n",
       "      <td>1.0</td>\n",
       "      <td>1.0</td>\n",
       "      <td>3925.0</td>\n",
       "      <td>0.0</td>\n",
       "    </tr>\n",
       "    <tr>\n",
       "      <th>...</th>\n",
       "      <td>...</td>\n",
       "      <td>...</td>\n",
       "      <td>...</td>\n",
       "      <td>...</td>\n",
       "      <td>...</td>\n",
       "      <td>...</td>\n",
       "      <td>...</td>\n",
       "      <td>...</td>\n",
       "      <td>...</td>\n",
       "      <td>...</td>\n",
       "      <td>...</td>\n",
       "      <td>...</td>\n",
       "      <td>...</td>\n",
       "      <td>...</td>\n",
       "    </tr>\n",
       "    <tr>\n",
       "      <th>9995</th>\n",
       "      <td>9995.0</td>\n",
       "      <td>1599.0</td>\n",
       "      <td>1999.0</td>\n",
       "      <td>380.0</td>\n",
       "      <td>0.0</td>\n",
       "      <td>1.0</td>\n",
       "      <td>21.0</td>\n",
       "      <td>5.0</td>\n",
       "      <td>0.0</td>\n",
       "      <td>1.0</td>\n",
       "      <td>1.0</td>\n",
       "      <td>0.0</td>\n",
       "      <td>4827.0</td>\n",
       "      <td>0.0</td>\n",
       "    </tr>\n",
       "    <tr>\n",
       "      <th>9996</th>\n",
       "      <td>9996.0</td>\n",
       "      <td>161.0</td>\n",
       "      <td>1336.0</td>\n",
       "      <td>125.0</td>\n",
       "      <td>0.0</td>\n",
       "      <td>1.0</td>\n",
       "      <td>17.0</td>\n",
       "      <td>10.0</td>\n",
       "      <td>124.0</td>\n",
       "      <td>0.0</td>\n",
       "      <td>1.0</td>\n",
       "      <td>1.0</td>\n",
       "      <td>5087.0</td>\n",
       "      <td>0.0</td>\n",
       "    </tr>\n",
       "    <tr>\n",
       "      <th>9997</th>\n",
       "      <td>9997.0</td>\n",
       "      <td>717.0</td>\n",
       "      <td>1570.0</td>\n",
       "      <td>318.0</td>\n",
       "      <td>0.0</td>\n",
       "      <td>0.0</td>\n",
       "      <td>18.0</td>\n",
       "      <td>7.0</td>\n",
       "      <td>0.0</td>\n",
       "      <td>0.0</td>\n",
       "      <td>0.0</td>\n",
       "      <td>1.0</td>\n",
       "      <td>2062.0</td>\n",
       "      <td>1.0</td>\n",
       "    </tr>\n",
       "    <tr>\n",
       "      <th>9998</th>\n",
       "      <td>9998.0</td>\n",
       "      <td>4656.0</td>\n",
       "      <td>2345.0</td>\n",
       "      <td>381.0</td>\n",
       "      <td>1.0</td>\n",
       "      <td>1.0</td>\n",
       "      <td>24.0</td>\n",
       "      <td>3.0</td>\n",
       "      <td>427.0</td>\n",
       "      <td>1.0</td>\n",
       "      <td>1.0</td>\n",
       "      <td>0.0</td>\n",
       "      <td>4639.0</td>\n",
       "      <td>1.0</td>\n",
       "    </tr>\n",
       "    <tr>\n",
       "      <th>9999</th>\n",
       "      <td>9999.0</td>\n",
       "      <td>2497.0</td>\n",
       "      <td>2751.0</td>\n",
       "      <td>401.0</td>\n",
       "      <td>0.0</td>\n",
       "      <td>0.0</td>\n",
       "      <td>10.0</td>\n",
       "      <td>0.0</td>\n",
       "      <td>4112.0</td>\n",
       "      <td>0.0</td>\n",
       "      <td>1.0</td>\n",
       "      <td>0.0</td>\n",
       "      <td>1878.0</td>\n",
       "      <td>0.0</td>\n",
       "    </tr>\n",
       "  </tbody>\n",
       "</table>\n",
       "<p>10000 rows × 14 columns</p>\n",
       "</div>"
      ],
      "text/plain": [
       "      RowNumber  CustomerId  Surname  CreditScore  Geography  Gender   Age  \\\n",
       "0           0.0      2736.0   1115.0        228.0        0.0     0.0  24.0   \n",
       "1           1.0      3258.0   1177.0        217.0        2.0     0.0  23.0   \n",
       "2           2.0      2104.0   2040.0        111.0        0.0     0.0  24.0   \n",
       "3           3.0      5435.0    289.0        308.0        0.0     0.0  21.0   \n",
       "4           4.0      6899.0   1822.0        459.0        2.0     0.0  25.0   \n",
       "...         ...         ...      ...          ...        ...     ...   ...   \n",
       "9995     9995.0      1599.0   1999.0        380.0        0.0     1.0  21.0   \n",
       "9996     9996.0       161.0   1336.0        125.0        0.0     1.0  17.0   \n",
       "9997     9997.0       717.0   1570.0        318.0        0.0     0.0  18.0   \n",
       "9998     9998.0      4656.0   2345.0        381.0        1.0     1.0  24.0   \n",
       "9999     9999.0      2497.0   2751.0        401.0        0.0     0.0  10.0   \n",
       "\n",
       "      Tenure  Balance  NumOfProducts  HasCrCard  IsActiveMember  \\\n",
       "0        2.0      0.0            0.0        1.0             1.0   \n",
       "1        1.0    743.0            0.0        0.0             1.0   \n",
       "2        8.0   5793.0            2.0        1.0             0.0   \n",
       "3        1.0      0.0            1.0        0.0             0.0   \n",
       "4        2.0   3696.0            0.0        1.0             1.0   \n",
       "...      ...      ...            ...        ...             ...   \n",
       "9995     5.0      0.0            1.0        1.0             0.0   \n",
       "9996    10.0    124.0            0.0        1.0             1.0   \n",
       "9997     7.0      0.0            0.0        0.0             1.0   \n",
       "9998     3.0    427.0            1.0        1.0             0.0   \n",
       "9999     0.0   4112.0            0.0        1.0             0.0   \n",
       "\n",
       "      EstimatedSalary  Exited  \n",
       "0              5068.0     1.0  \n",
       "1              5639.0     0.0  \n",
       "2              5707.0     1.0  \n",
       "3              4704.0     0.0  \n",
       "4              3925.0     0.0  \n",
       "...               ...     ...  \n",
       "9995           4827.0     0.0  \n",
       "9996           5087.0     0.0  \n",
       "9997           2062.0     1.0  \n",
       "9998           4639.0     1.0  \n",
       "9999           1878.0     0.0  \n",
       "\n",
       "[10000 rows x 14 columns]"
      ]
     },
     "execution_count": 17,
     "metadata": {},
     "output_type": "execute_result"
    }
   ],
   "source": [
    "df_ordinal"
   ]
  },
  {
   "cell_type": "markdown",
   "metadata": {},
   "source": [
    "##### <span style=\"color:skyblue\">Observations</span>\n",
    "<div style=\"border-radius: 15px; border: 3px solid skyblue; padding: 15px;\">\n",
    "\n",
    "We are okay with the labels being assigned arbitrarily because our categorical features such as Gender, Surname and Geography are not features that need to be organized in any type of order. "
   ]
  },
  {
   "cell_type": "markdown",
   "metadata": {},
   "source": [
    "#### Split data into Training, Test, and Validation sets"
   ]
  },
  {
   "cell_type": "code",
   "execution_count": 18,
   "metadata": {},
   "outputs": [],
   "source": [
    "# The Exited field will be our target since we are trying to predict whether a customer will leave or not.\n",
    "\n",
    "features = df_ordinal.drop(['Exited'],axis=1)\n",
    "target = df_ordinal['Exited']"
   ]
  },
  {
   "cell_type": "code",
   "execution_count": 19,
   "metadata": {},
   "outputs": [],
   "source": [
    "# split features and target into train, test, and validation datasets. Using a 3-1-1 split for this.\n",
    "features_train, features_test, target_train, target_test = train_test_split(features,target,\n",
    "                                                                         test_size=0.25,\n",
    "                                                                         random_state=12345)\n",
    "\n",
    "features_train, features_valid, target_train, target_valid = train_test_split(features_train,target_train,\n",
    "                                                                           test_size=0.25,\n",
    "                                                                           random_state=12345)"
   ]
  },
  {
   "cell_type": "code",
   "execution_count": 20,
   "metadata": {},
   "outputs": [
    {
     "data": {
      "text/plain": [
       "(5625, 13)"
      ]
     },
     "metadata": {},
     "output_type": "display_data"
    },
    {
     "data": {
      "text/plain": [
       "(5625,)"
      ]
     },
     "metadata": {},
     "output_type": "display_data"
    },
    {
     "data": {
      "text/plain": [
       "(2500, 13)"
      ]
     },
     "metadata": {},
     "output_type": "display_data"
    },
    {
     "data": {
      "text/plain": [
       "(2500,)"
      ]
     },
     "metadata": {},
     "output_type": "display_data"
    },
    {
     "data": {
      "text/plain": [
       "(1875, 13)"
      ]
     },
     "metadata": {},
     "output_type": "display_data"
    },
    {
     "data": {
      "text/plain": [
       "(1875,)"
      ]
     },
     "metadata": {},
     "output_type": "display_data"
    }
   ],
   "source": [
    "#check to make sure all looks good.\n",
    "display(features_train.shape)\n",
    "display(target_train.shape)\n",
    "display(features_test.shape)\n",
    "display(target_test.shape)\n",
    "display(features_valid.shape)\n",
    "display(target_valid.shape)"
   ]
  },
  {
   "cell_type": "markdown",
   "metadata": {},
   "source": [
    "#### Scaling"
   ]
  },
  {
   "cell_type": "code",
   "execution_count": 21,
   "metadata": {},
   "outputs": [],
   "source": [
    "#We don't want features like salary to have greater weight over features like age, so I will scale the features.\n",
    "scaler = StandardScaler()\n",
    "\n",
    "#specify numeric columns to be scaled. I'm not scaling the encoded features because it is not necessary\n",
    "numeric = ['CreditScore','Age','Tenure','Balance','NumOfProducts','EstimatedSalary']\n",
    "\n",
    "scaler.fit(features_train[numeric])\n",
    "\n",
    "features_train[numeric] = scaler.transform(features_train[numeric])\n",
    "features_test[numeric] = scaler.transform(features_test[numeric])\n",
    "features_valid[numeric] = scaler.transform(features_valid[numeric])"
   ]
  },
  {
   "cell_type": "code",
   "execution_count": 22,
   "metadata": {},
   "outputs": [
    {
     "data": {
      "text/html": [
       "<div>\n",
       "<style scoped>\n",
       "    .dataframe tbody tr th:only-of-type {\n",
       "        vertical-align: middle;\n",
       "    }\n",
       "\n",
       "    .dataframe tbody tr th {\n",
       "        vertical-align: top;\n",
       "    }\n",
       "\n",
       "    .dataframe thead th {\n",
       "        text-align: right;\n",
       "    }\n",
       "</style>\n",
       "<table border=\"1\" class=\"dataframe\">\n",
       "  <thead>\n",
       "    <tr style=\"text-align: right;\">\n",
       "      <th></th>\n",
       "      <th>RowNumber</th>\n",
       "      <th>CustomerId</th>\n",
       "      <th>Surname</th>\n",
       "      <th>CreditScore</th>\n",
       "      <th>Geography</th>\n",
       "      <th>Gender</th>\n",
       "      <th>Age</th>\n",
       "      <th>Tenure</th>\n",
       "      <th>Balance</th>\n",
       "      <th>NumOfProducts</th>\n",
       "      <th>HasCrCard</th>\n",
       "      <th>IsActiveMember</th>\n",
       "      <th>EstimatedSalary</th>\n",
       "    </tr>\n",
       "  </thead>\n",
       "  <tbody>\n",
       "    <tr>\n",
       "      <th>9315</th>\n",
       "      <td>9315.0</td>\n",
       "      <td>3463.0</td>\n",
       "      <td>449.0</td>\n",
       "      <td>0.436235</td>\n",
       "      <td>0.0</td>\n",
       "      <td>1.0</td>\n",
       "      <td>0.303124</td>\n",
       "      <td>1.097991</td>\n",
       "      <td>1.124264</td>\n",
       "      <td>-0.904415</td>\n",
       "      <td>1.0</td>\n",
       "      <td>0.0</td>\n",
       "      <td>-1.124671</td>\n",
       "    </tr>\n",
       "    <tr>\n",
       "      <th>58</th>\n",
       "      <td>58.0</td>\n",
       "      <td>2286.0</td>\n",
       "      <td>2570.0</td>\n",
       "      <td>-1.461412</td>\n",
       "      <td>2.0</td>\n",
       "      <td>0.0</td>\n",
       "      <td>2.564865</td>\n",
       "      <td>-0.179205</td>\n",
       "      <td>-0.949549</td>\n",
       "      <td>-0.904415</td>\n",
       "      <td>1.0</td>\n",
       "      <td>0.0</td>\n",
       "      <td>-1.713372</td>\n",
       "    </tr>\n",
       "    <tr>\n",
       "      <th>4609</th>\n",
       "      <td>4609.0</td>\n",
       "      <td>9177.0</td>\n",
       "      <td>1753.0</td>\n",
       "      <td>-0.735536</td>\n",
       "      <td>2.0</td>\n",
       "      <td>1.0</td>\n",
       "      <td>-0.450790</td>\n",
       "      <td>-1.137101</td>\n",
       "      <td>-0.949549</td>\n",
       "      <td>0.807340</td>\n",
       "      <td>0.0</td>\n",
       "      <td>1.0</td>\n",
       "      <td>-0.346299</td>\n",
       "    </tr>\n",
       "    <tr>\n",
       "      <th>9958</th>\n",
       "      <td>9958.0</td>\n",
       "      <td>3651.0</td>\n",
       "      <td>2655.0</td>\n",
       "      <td>-1.191801</td>\n",
       "      <td>0.0</td>\n",
       "      <td>1.0</td>\n",
       "      <td>-0.168073</td>\n",
       "      <td>0.459393</td>\n",
       "      <td>-0.949549</td>\n",
       "      <td>-0.904415</td>\n",
       "      <td>1.0</td>\n",
       "      <td>1.0</td>\n",
       "      <td>-1.440441</td>\n",
       "    </tr>\n",
       "    <tr>\n",
       "      <th>16</th>\n",
       "      <td>16.0</td>\n",
       "      <td>6877.0</td>\n",
       "      <td>2307.0</td>\n",
       "      <td>0.011079</td>\n",
       "      <td>1.0</td>\n",
       "      <td>1.0</td>\n",
       "      <td>1.810951</td>\n",
       "      <td>-1.137101</td>\n",
       "      <td>1.081217</td>\n",
       "      <td>-0.904415</td>\n",
       "      <td>1.0</td>\n",
       "      <td>0.0</td>\n",
       "      <td>-1.651531</td>\n",
       "    </tr>\n",
       "  </tbody>\n",
       "</table>\n",
       "</div>"
      ],
      "text/plain": [
       "      RowNumber  CustomerId  Surname  CreditScore  Geography  Gender  \\\n",
       "9315     9315.0      3463.0    449.0     0.436235        0.0     1.0   \n",
       "58         58.0      2286.0   2570.0    -1.461412        2.0     0.0   \n",
       "4609     4609.0      9177.0   1753.0    -0.735536        2.0     1.0   \n",
       "9958     9958.0      3651.0   2655.0    -1.191801        0.0     1.0   \n",
       "16         16.0      6877.0   2307.0     0.011079        1.0     1.0   \n",
       "\n",
       "           Age    Tenure   Balance  NumOfProducts  HasCrCard  IsActiveMember  \\\n",
       "9315  0.303124  1.097991  1.124264      -0.904415        1.0             0.0   \n",
       "58    2.564865 -0.179205 -0.949549      -0.904415        1.0             0.0   \n",
       "4609 -0.450790 -1.137101 -0.949549       0.807340        0.0             1.0   \n",
       "9958 -0.168073  0.459393 -0.949549      -0.904415        1.0             1.0   \n",
       "16    1.810951 -1.137101  1.081217      -0.904415        1.0             0.0   \n",
       "\n",
       "      EstimatedSalary  \n",
       "9315        -1.124671  \n",
       "58          -1.713372  \n",
       "4609        -0.346299  \n",
       "9958        -1.440441  \n",
       "16          -1.651531  "
      ]
     },
     "metadata": {},
     "output_type": "display_data"
    }
   ],
   "source": [
    "display(features_train.head())"
   ]
  },
  {
   "cell_type": "markdown",
   "metadata": {},
   "source": [
    "### Logistic Regression Model"
   ]
  },
  {
   "cell_type": "code",
   "execution_count": 23,
   "metadata": {},
   "outputs": [],
   "source": [
    "#Train a Logistic Regression model\n",
    "def best_logistic_regression(features_train,features_valid,target_train,target_valid,class_weight):\n",
    "    best_model = None\n",
    "    best_score = 0\n",
    "    solver_list = ['newton-cg', 'lbfgs', 'liblinear', 'sag', 'saga']\n",
    "    c_list = [0.01,0.1,1,10,100]\n",
    "    \n",
    "    for c in c_list:\n",
    "        for solver in solver_list:\n",
    "            model = LogisticRegression(random_state=12345,solver=solver,penalty='l2',C=c,class_weight=class_weight)\n",
    "            model.fit(features_train,target_train)   \n",
    "            score_valid = model.score(features_valid,target_valid)  \n",
    "                \n",
    "            if score_valid > best_score:\n",
    "                best_model = model\n",
    "                best_score = score_valid\n",
    "                    \n",
    "    return best_model, best_score"
   ]
  },
  {
   "cell_type": "code",
   "execution_count": 24,
   "metadata": {},
   "outputs": [
    {
     "data": {
      "text/plain": [
       "(LogisticRegression(C=1, random_state=12345, solver='newton-cg'),\n",
       " 0.8090666666666667)"
      ]
     },
     "metadata": {},
     "output_type": "display_data"
    }
   ],
   "source": [
    "best_logistic_regression_specs = best_logistic_regression(features_train,features_valid,target_train,target_valid,None)\n",
    "display(best_logistic_regression_specs)"
   ]
  },
  {
   "cell_type": "code",
   "execution_count": 25,
   "metadata": {},
   "outputs": [],
   "source": [
    "#split the model from it's accuracy value and display results\n",
    "model_lr, valid_accuracy_lr = best_logistic_regression_specs"
   ]
  },
  {
   "cell_type": "code",
   "execution_count": 26,
   "metadata": {},
   "outputs": [
    {
     "data": {
      "text/plain": [
       "LogisticRegression(C=1, random_state=12345, solver='newton-cg')"
      ]
     },
     "execution_count": 26,
     "metadata": {},
     "output_type": "execute_result"
    }
   ],
   "source": [
    "model_lr.fit(features_train,target_train)"
   ]
  },
  {
   "cell_type": "code",
   "execution_count": 27,
   "metadata": {},
   "outputs": [],
   "source": [
    "#create a Series with predictions of the validation set to use in a sanity check\n",
    "predicted_valid_lr = pd.Series(model_lr.predict(features_valid))"
   ]
  },
  {
   "cell_type": "code",
   "execution_count": 28,
   "metadata": {
    "scrolled": false
   },
   "outputs": [
    {
     "name": "stdout",
     "output_type": "stream",
     "text": [
      "0.0    0.9456\n",
      "1.0    0.0544\n",
      "dtype: float64\n"
     ]
    },
    {
     "data": {
      "text/plain": [
       "<AxesSubplot:>"
      ]
     },
     "execution_count": 28,
     "metadata": {},
     "output_type": "execute_result"
    },
    {
     "data": {
      "image/png": "[encoded data removed]",
      "text/plain": [
       "<Figure size 432x288 with 1 Axes>"
      ]
     },
     "metadata": {
      "needs_background": "light"
     },
     "output_type": "display_data"
    }
   ],
   "source": [
    "#count classes in the target feature\n",
    "class_frequency_lr = predicted_valid_lr.value_counts(normalize=True)\n",
    "\n",
    "print(class_frequency_lr)\n",
    "\n",
    "class_frequency_lr.plot(kind='bar')"
   ]
  },
  {
   "cell_type": "code",
   "execution_count": 29,
   "metadata": {},
   "outputs": [
    {
     "data": {
      "image/png": "[encoded data removed]",
      "text/plain": [
       "<Figure size 576x432 with 2 Axes>"
      ]
     },
     "metadata": {
      "needs_background": "light"
     },
     "output_type": "display_data"
    }
   ],
   "source": [
    "#plot a confusion matrix, check precision, recall and f1 scores\n",
    "conf_mat = confusion_matrix(target_valid,predicted_valid_lr)\n",
    "\n",
    "plt.figure(figsize=(8, 6))\n",
    "sns.heatmap(conf_mat, annot=True, cmap='Reds', fmt='g', \n",
    "            xticklabels=['False Negative', 'False Positive'],\n",
    "            yticklabels=['True Negative', 'True Positive'])\n",
    "plt.xlabel('Predicted Label')\n",
    "plt.ylabel('True Label')\n",
    "plt.title('Confusion Matrix')\n",
    "plt.show()"
   ]
  },
  {
   "cell_type": "code",
   "execution_count": 30,
   "metadata": {},
   "outputs": [
    {
     "name": "stdout",
     "output_type": "stream",
     "text": [
      "Recall: 0.1631578947368421\n",
      "Precision: 0.6078431372549019\n",
      "F1 Score: 0.2572614107883818\n"
     ]
    }
   ],
   "source": [
    "print('Recall:',recall_score(target_valid,predicted_valid_lr))\n",
    "print('Precision:',precision_score(target_valid,predicted_valid_lr))\n",
    "print('F1 Score:',f1_score(target_valid,predicted_valid_lr))"
   ]
  },
  {
   "cell_type": "markdown",
   "metadata": {},
   "source": [
    "#### <span style=\"color:skyblue\">Observations</span>\n",
    "<div style=\"border-radius: 15px; border: 3px solid skyblue; padding: 15px;\">\n",
    "    \n",
    "We can see with the initial Logistic Regression model that the more common class is predicted 94% of the time. This gets an F1 score of 0.25 which is not a good performance.\n",
    "    \n",
    "From the confusion matrix we see that there are a lot of False Negatives and not many True Positives. This model is very comfortable with picking the negative class"
   ]
  },
  {
   "cell_type": "markdown",
   "metadata": {},
   "source": [
    "### Random Forest Classifier Model"
   ]
  },
  {
   "cell_type": "code",
   "execution_count": 31,
   "metadata": {},
   "outputs": [],
   "source": [
    "#function to create a model with hyperparameters that will produce the best accuracy_score\n",
    "def best_random_forest(features_train,features_valid,target_train,target_valid,class_weight):\n",
    "    best_model = None\n",
    "    best_result = 0\n",
    "    \n",
    "    for est in range(10,100):\n",
    "        for depth in range(1,10):\n",
    "                    model = RandomForestClassifier(random_state=12345,\n",
    "                                                   n_estimators=est,\n",
    "                                                   max_depth=depth,\n",
    "                                                  class_weight=class_weight)\n",
    "                    model.fit(features_train,target_train) # train the model\n",
    "                    predictions = model.predict(features_valid)\n",
    "                    result = accuracy_score(target_valid,predictions) # grab the accuracy score for each model to be compared\n",
    "                \n",
    "                    if result > best_result:\n",
    "                        best_model = model\n",
    "                        best_result = result\n",
    "                        \n",
    "    return best_model, best_result"
   ]
  },
  {
   "cell_type": "code",
   "execution_count": 32,
   "metadata": {},
   "outputs": [],
   "source": [
    "#assign the model to a variable\n",
    "best_random_forest_specs = best_random_forest(features_train,features_valid,target_train,target_valid,None)"
   ]
  },
  {
   "cell_type": "code",
   "execution_count": 33,
   "metadata": {},
   "outputs": [
    {
     "data": {
      "text/plain": [
       "RandomForestClassifier(max_depth=9, n_estimators=66, random_state=12345)"
      ]
     },
     "metadata": {},
     "output_type": "display_data"
    },
    {
     "data": {
      "text/plain": [
       "0.8597333333333333"
      ]
     },
     "metadata": {},
     "output_type": "display_data"
    }
   ],
   "source": [
    "#split the model from it's accuracy value and display results\n",
    "model_rf, valid_accuracy = best_random_forest_specs\n",
    "display(model_rf)\n",
    "display(valid_accuracy)"
   ]
  },
  {
   "cell_type": "markdown",
   "metadata": {},
   "source": [
    "### Train the Model"
   ]
  },
  {
   "cell_type": "code",
   "execution_count": 34,
   "metadata": {},
   "outputs": [
    {
     "data": {
      "text/plain": [
       "RandomForestClassifier(max_depth=9, n_estimators=66, random_state=12345)"
      ]
     },
     "execution_count": 34,
     "metadata": {},
     "output_type": "execute_result"
    }
   ],
   "source": [
    "#train the model we got using the function with our training features and target\n",
    "model_rf.fit(features_train,target_train)"
   ]
  },
  {
   "cell_type": "markdown",
   "metadata": {},
   "source": [
    "### Sanity Check"
   ]
  },
  {
   "cell_type": "code",
   "execution_count": 35,
   "metadata": {},
   "outputs": [],
   "source": [
    "#create a Series with predictions of the validation set to use in a sanity check\n",
    "predicted_valid_rf = pd.Series(model_rf.predict(features_valid))"
   ]
  },
  {
   "cell_type": "code",
   "execution_count": 36,
   "metadata": {},
   "outputs": [
    {
     "name": "stdout",
     "output_type": "stream",
     "text": [
      "0.0    0.897067\n",
      "1.0    0.102933\n",
      "dtype: float64\n"
     ]
    },
    {
     "data": {
      "text/plain": [
       "<AxesSubplot:>"
      ]
     },
     "execution_count": 36,
     "metadata": {},
     "output_type": "execute_result"
    },
    {
     "data": {
      "image/png": "[encoded data removed]",
      "text/plain": [
       "<Figure size 432x288 with 1 Axes>"
      ]
     },
     "metadata": {
      "needs_background": "light"
     },
     "output_type": "display_data"
    }
   ],
   "source": [
    "#count classes in the target feature\n",
    "class_frequency = predicted_valid_rf.value_counts(normalize=True)\n",
    "\n",
    "print(class_frequency)\n",
    "\n",
    "class_frequency.plot(kind='bar')"
   ]
  },
  {
   "cell_type": "code",
   "execution_count": 37,
   "metadata": {},
   "outputs": [],
   "source": [
    "#compare the above to a constant model\n",
    "target_pred_constant = pd.Series([0] * len(predicted_valid_rf))"
   ]
  },
  {
   "cell_type": "code",
   "execution_count": 38,
   "metadata": {
    "scrolled": true
   },
   "outputs": [
    {
     "data": {
      "text/plain": [
       "0.7973333333333333"
      ]
     },
     "metadata": {},
     "output_type": "display_data"
    }
   ],
   "source": [
    "display(accuracy_score(target_valid,target_pred_constant))"
   ]
  },
  {
   "cell_type": "markdown",
   "metadata": {},
   "source": [
    "#### <span style=\"color:skyblue\">Observations</span>\n",
    "<div style=\"border-radius: 15px; border: 3px solid skyblue; padding: 15px;\">\n",
    " \n",
    "Achieving 89% accuracy with the model seems like an improvement over the constant model which achieves the result 79% of the time, but it is clear there is class imbalance. The model's high accuracy could be misleading since it's primarily driven by its ability to predict the more common class, rather than capturing meaningful patterns from the data."
   ]
  },
  {
   "cell_type": "code",
   "execution_count": 39,
   "metadata": {},
   "outputs": [
    {
     "data": {
      "image/png": "[encoded data removed]",
      "text/plain": [
       "<Figure size 576x432 with 2 Axes>"
      ]
     },
     "metadata": {
      "needs_background": "light"
     },
     "output_type": "display_data"
    }
   ],
   "source": [
    "#plot a confusion matrix, check precision, recall and f1 scores\n",
    "conf_mat = confusion_matrix(target_valid,predicted_valid_rf)\n",
    "\n",
    "plt.figure(figsize=(8, 6))\n",
    "sns.heatmap(conf_mat, annot=True, cmap='Reds', fmt='g', \n",
    "            xticklabels=['False Negative', 'False Positive'],\n",
    "            yticklabels=['True Negative', 'True Positive'])\n",
    "plt.xlabel('Predicted Label')\n",
    "plt.ylabel('True Label')\n",
    "plt.title('Confusion Matrix')\n",
    "plt.show()"
   ]
  },
  {
   "cell_type": "code",
   "execution_count": 40,
   "metadata": {},
   "outputs": [
    {
     "name": "stdout",
     "output_type": "stream",
     "text": [
      "Recall: 0.40789473684210525\n",
      "Precision: 0.8031088082901554\n",
      "F1 Score: 0.5410122164048865\n"
     ]
    }
   ],
   "source": [
    "print('Recall:',recall_score(target_valid,predicted_valid_rf))\n",
    "print('Precision:',precision_score(target_valid,predicted_valid_rf))\n",
    "print('F1 Score:',f1_score(target_valid,predicted_valid_rf))"
   ]
  },
  {
   "cell_type": "markdown",
   "metadata": {},
   "source": [
    "#### <span style=\"color:skyblue\">Observations</span>\n",
    "<div style=\"border-radius: 15px; border: 3px solid skyblue; padding: 15px;\">\n",
    " \n",
    "**Confusion Matrix**: The model has a great amount of True Positives and Negatives, but has a large amount of False Negatives.\n",
    "\n",
    "**Recall**: We can see from the confusion matrix as well why this score is low, we have a large amount of False Negatives\n",
    "    \n",
    "**Precision**: From our precision score, we can see that the model has a low false positive rate.\n",
    "\n",
    "**F1**: The model's performance is moderate in terms of precision and recall. \n",
    "    \n",
    "**Overall**: The model is conservative in predicting the positive class and can be improved. My goal is to improve the F1 score to be a 0.59 at least"
   ]
  },
  {
   "cell_type": "markdown",
   "metadata": {},
   "source": [
    "### Improve the Quality of the Model"
   ]
  },
  {
   "cell_type": "markdown",
   "metadata": {},
   "source": [
    "#### <span style=\"color:skyblue\">Plan</span>\n",
    "<div style=\"border-radius: 15px; border: 3px solid skyblue; padding: 15px;\">\n",
    "    \n",
    "I will try a few different ways of improving the quality of the model.\n",
    "    \n",
    "    - I will balance the class weight\n",
    "    - I will start with Upsampling\n",
    "    - Then, I will try Downsampling"
   ]
  },
  {
   "cell_type": "markdown",
   "metadata": {},
   "source": [
    "#### Balance the Class Weight"
   ]
  },
  {
   "cell_type": "code",
   "execution_count": 41,
   "metadata": {},
   "outputs": [],
   "source": [
    "#find best hyperparameters for both balanced models\n",
    "best_logistic_regression_balanced = best_logistic_regression(features_train,features_valid,target_train,target_valid,'balanced')\n",
    "best_random_forest_balanced = best_random_forest(features_train,features_valid,target_train,target_valid,'balanced')"
   ]
  },
  {
   "cell_type": "code",
   "execution_count": 42,
   "metadata": {},
   "outputs": [],
   "source": [
    "#assign models to variables\n",
    "model_lr_balanced,valid_accuracy_lr_balanced = best_logistic_regression_balanced\n",
    "model_rf_balanced,valid_accuracy_rf_balanced = best_random_forest_balanced"
   ]
  },
  {
   "cell_type": "code",
   "execution_count": 43,
   "metadata": {},
   "outputs": [
    {
     "data": {
      "text/plain": [
       "LogisticRegression(C=0.01, class_weight='balanced', random_state=12345,\n",
       "                   solver='liblinear')"
      ]
     },
     "metadata": {},
     "output_type": "display_data"
    },
    {
     "data": {
      "text/plain": [
       "0.7184"
      ]
     },
     "metadata": {},
     "output_type": "display_data"
    },
    {
     "data": {
      "text/plain": [
       "RandomForestClassifier(class_weight='balanced', max_depth=9, n_estimators=50,\n",
       "                       random_state=12345)"
      ]
     },
     "metadata": {},
     "output_type": "display_data"
    },
    {
     "data": {
      "text/plain": [
       "0.8378666666666666"
      ]
     },
     "metadata": {},
     "output_type": "display_data"
    }
   ],
   "source": [
    "#display hyperparameters and accuracies.\n",
    "display(model_lr_balanced,valid_accuracy_lr_balanced)\n",
    "display(model_rf_balanced,valid_accuracy_rf_balanced)"
   ]
  },
  {
   "cell_type": "code",
   "execution_count": 44,
   "metadata": {},
   "outputs": [
    {
     "data": {
      "text/plain": [
       "RandomForestClassifier(class_weight='balanced', max_depth=9, n_estimators=50,\n",
       "                       random_state=12345)"
      ]
     },
     "execution_count": 44,
     "metadata": {},
     "output_type": "execute_result"
    }
   ],
   "source": [
    "#train new models\n",
    "model_lr_balanced.fit(features_train,target_train)\n",
    "model_rf_balanced.fit(features_train,target_train)"
   ]
  },
  {
   "cell_type": "code",
   "execution_count": 45,
   "metadata": {},
   "outputs": [],
   "source": [
    "#get predictions for new models\n",
    "predictions_lr_balanced = model_lr_balanced.predict(features_valid)\n",
    "predictions_rf_balanced = model_rf_balanced.predict(features_valid)"
   ]
  },
  {
   "cell_type": "code",
   "execution_count": 46,
   "metadata": {},
   "outputs": [
    {
     "name": "stdout",
     "output_type": "stream",
     "text": [
      "Logistic Regression Balanced Recall: 0.6894736842105263\n",
      "Logistic Regression Balanced Precision: 0.3898809523809524\n",
      "Logistic Regression Balanced F1 Score: 0.49809885931558934\n",
      "Random Forest Balanced Recall: 0.6394736842105263\n",
      "Random Forest Balanced Precision: 0.5926829268292683\n",
      "Random Forest Balanced F1 Score: 0.6151898734177216\n"
     ]
    }
   ],
   "source": [
    "#get new F1 scores\n",
    "print('Logistic Regression Balanced Recall:',recall_score(target_valid,predictions_lr_balanced))\n",
    "print('Logistic Regression Balanced Precision:',precision_score(target_valid,predictions_lr_balanced))\n",
    "print('Logistic Regression Balanced F1 Score:',f1_score(target_valid,predictions_lr_balanced))\n",
    "\n",
    "print('Random Forest Balanced Recall:',recall_score(target_valid,predictions_rf_balanced))\n",
    "print('Random Forest Balanced Precision:',precision_score(target_valid,predictions_rf_balanced))\n",
    "print('Random Forest Balanced F1 Score:',f1_score(target_valid,predictions_rf_balanced))"
   ]
  },
  {
   "cell_type": "markdown",
   "metadata": {},
   "source": [
    "#### <span style=\"color:skyblue\">Observations</span>\n",
    "<div style=\"border-radius: 15px; border: 3px solid skyblue; padding: 15px;\">\n",
    " \n",
    "We can see from these new F1 scores after balancing the weight classes that the Logistic Regression model improved by .24, a huge improvement, but not quite what we want. The Random Forest model improved by .07, also a big improvement, and gets us the score we want. Balancing the weight classes gave us a much better model for both model types, but I will continue trying to improve both."
   ]
  },
  {
   "cell_type": "markdown",
   "metadata": {},
   "source": [
    "#### Upsampling"
   ]
  },
  {
   "cell_type": "code",
   "execution_count": 47,
   "metadata": {},
   "outputs": [],
   "source": [
    "#create upsample function\n",
    "def upsample(features,target,repeat):\n",
    "    features_zeros = features[target==0]\n",
    "    features_ones = features[target==1]\n",
    "    target_zeros = target[target==0]\n",
    "    target_ones = target[target==1]\n",
    "    \n",
    "    features_upsampled = pd.concat([features_zeros] + [features_ones] * repeat)\n",
    "    target_upsampled = pd.concat([target_zeros] + [target_ones] * repeat)\n",
    "    \n",
    "    features_upsampled,target_upsampled = shuffle(features_upsampled,target_upsampled,random_state=12345)\n",
    "    \n",
    "    return features_upsampled,target_upsampled"
   ]
  },
  {
   "cell_type": "code",
   "execution_count": 48,
   "metadata": {},
   "outputs": [],
   "source": [
    "#use function to upsample the training sets\n",
    "features_upsampled,target_upsampled = upsample(features_train,target_train,5)\n",
    "\n",
    "#create new empty models\n",
    "upsample_model_lr = model_lr_balanced\n",
    "upsample_model_rf = model_rf_balanced"
   ]
  },
  {
   "cell_type": "markdown",
   "metadata": {},
   "source": [
    "#### Logistric Regression with Upsampling"
   ]
  },
  {
   "cell_type": "code",
   "execution_count": 49,
   "metadata": {},
   "outputs": [],
   "source": [
    "#train the new model,get predictions and get probabilities for ROC curve\n",
    "upsample_model_lr.fit(features_upsampled,target_upsampled)\n",
    "upsample_predictions_lr = upsample_model_lr.predict(features_valid)\n",
    "probabilities_valid_up_lr = upsample_model_lr.predict_proba(features_valid)[:, 1]"
   ]
  },
  {
   "cell_type": "code",
   "execution_count": 50,
   "metadata": {},
   "outputs": [
    {
     "data": {
      "image/png": "[encoded data removed]",
      "text/plain": [
       "<Figure size 432x288 with 1 Axes>"
      ]
     },
     "metadata": {
      "needs_background": "light"
     },
     "output_type": "display_data"
    }
   ],
   "source": [
    "#calculate ROC curve metrics\n",
    "fpr, tpr, thresholds = roc_curve(target_valid, probabilities_valid_up_lr)\n",
    "\n",
    "#calculate auc\n",
    "roc_auc = roc_auc_score(target_valid,probabilities_valid_up_lr)\n",
    "\n",
    "#plot ROC curve\n",
    "plt.figure()\n",
    "plt.plot(fpr, tpr, color='darkorange', lw=2, label='ROC curve (area = %0.2f)' % roc_auc)\n",
    "plt.plot([0, 1], [0, 1], color='navy', lw=2, linestyle='--')\n",
    "plt.xlabel('False Positive Rate')\n",
    "plt.ylabel('True Positive Rate')\n",
    "plt.title('Receiver Operating Characteristic (ROC) Curve')\n",
    "plt.legend(loc=\"lower right\")\n",
    "plt.show()"
   ]
  },
  {
   "cell_type": "code",
   "execution_count": 51,
   "metadata": {},
   "outputs": [
    {
     "name": "stdout",
     "output_type": "stream",
     "text": [
      "F1 Score: 0.49858889934148626\n"
     ]
    }
   ],
   "source": [
    "#check F1 score of new model.\n",
    "print('F1 Score:',f1_score(target_valid,upsample_predictions_lr))"
   ]
  },
  {
   "cell_type": "markdown",
   "metadata": {},
   "source": [
    "#### Random Forest with Upsampling"
   ]
  },
  {
   "cell_type": "code",
   "execution_count": 52,
   "metadata": {},
   "outputs": [],
   "source": [
    "#train the new model,get predictions and get probabilities for ROC curve\n",
    "upsample_model_rf.fit(features_upsampled,target_upsampled)\n",
    "upsample_predictions_rf = upsample_model_rf.predict(features_valid)\n",
    "probabilities_valid_up_rf = upsample_model_rf.predict_proba(features_valid)[:, 1]"
   ]
  },
  {
   "cell_type": "code",
   "execution_count": 53,
   "metadata": {},
   "outputs": [
    {
     "data": {
      "image/png": "[encoded data removed]",
      "text/plain": [
       "<Figure size 432x288 with 1 Axes>"
      ]
     },
     "metadata": {
      "needs_background": "light"
     },
     "output_type": "display_data"
    }
   ],
   "source": [
    "#calculate ROC curve metrics\n",
    "fpr_rf, tpr_rf, thresholds = roc_curve(target_valid, probabilities_valid_up_rf)\n",
    "\n",
    "#calculate auc\n",
    "roc_auc_rf = roc_auc_score(target_valid,probabilities_valid_up_rf)\n",
    "\n",
    "#plot ROC curve\n",
    "plt.figure()\n",
    "plt.plot(fpr_rf, tpr_rf, color='darkorange', lw=2, label='ROC curve (area = %0.2f)' % roc_auc_rf)\n",
    "plt.plot([0, 1], [0, 1], color='navy', lw=2, linestyle='--')\n",
    "plt.xlabel('False Positive Rate')\n",
    "plt.ylabel('True Positive Rate')\n",
    "plt.title('Receiver Operating Characteristic (ROC) Curve')\n",
    "plt.legend(loc=\"lower right\")\n",
    "plt.show()"
   ]
  },
  {
   "cell_type": "code",
   "execution_count": 54,
   "metadata": {},
   "outputs": [
    {
     "name": "stdout",
     "output_type": "stream",
     "text": [
      "F1 Score: 0.6207674943566592\n"
     ]
    }
   ],
   "source": [
    "#check F1 score of new model.\n",
    "print('F1 Score:',f1_score(target_valid,upsample_predictions_rf))"
   ]
  },
  {
   "cell_type": "markdown",
   "metadata": {},
   "source": [
    "#### <span style=\"color:skyblue\">Observations</span>\n",
    "<div style=\"border-radius: 15px; border: 3px solid skyblue; padding: 15px;\">\n",
    "    \n",
    "From training Random Forest and Logistic Regression models with upsampling, I was able to get my Random Forest F1 score up 1% while keeping the Logitic Regression model the same. \n",
    "    \n",
    "    The ROC-AUC of 0.87 for the Random Forest model with upsampled data is impressive and shows the model performs very well. This model is the front runner thus far to be the final model I use for testing."
   ]
  },
  {
   "cell_type": "markdown",
   "metadata": {},
   "source": [
    "#### Downsampling"
   ]
  },
  {
   "cell_type": "code",
   "execution_count": 55,
   "metadata": {},
   "outputs": [],
   "source": [
    "#create downsample function\n",
    "def downsample(features,target,fraction):\n",
    "    features_zeros = features[target==0]\n",
    "    features_ones = features[target==1]\n",
    "    target_zeros = target[target==0]\n",
    "    target_ones = target[target==1]\n",
    "    \n",
    "    features_downsampled = pd.concat([features_zeros.sample(frac=fraction,random_state=12345)] + [features_ones])\n",
    "    target_downsampled = pd.concat([target_zeros.sample(frac=fraction,random_state=12345)] + [target_ones])\n",
    "    \n",
    "    features_downsampled,target_downsampled = shuffle(features_downsampled,target_downsampled,random_state=12345)\n",
    "    \n",
    "    return features_downsampled,target_downsampled"
   ]
  },
  {
   "cell_type": "code",
   "execution_count": 56,
   "metadata": {},
   "outputs": [],
   "source": [
    "#use downsample function on training sets with a fraction of 0.1\n",
    "features_downsampled_1,target_downsampled_1 = downsample(features_train,target_train,0.1)\n",
    "\n",
    "#create and train new models\n",
    "downsample_model_lr = model_lr_balanced\n",
    "downsample_model_rf = model_rf_balanced"
   ]
  },
  {
   "cell_type": "markdown",
   "metadata": {},
   "source": [
    "#### Logistric Regression with Downsampling"
   ]
  },
  {
   "cell_type": "code",
   "execution_count": 57,
   "metadata": {},
   "outputs": [],
   "source": [
    "downsample_model_lr.fit(features_downsampled_1,target_downsampled_1)\n",
    "predictions_down = downsample_model_lr.predict(features_valid)"
   ]
  },
  {
   "cell_type": "code",
   "execution_count": 58,
   "metadata": {},
   "outputs": [
    {
     "name": "stdout",
     "output_type": "stream",
     "text": [
      "F1 Score after downsampling by 0.1: 0.5032863849765258\n"
     ]
    }
   ],
   "source": [
    "#get new F1 score\n",
    "print('F1 Score after downsampling by 0.1:',f1_score(target_valid,predictions_down))"
   ]
  },
  {
   "cell_type": "markdown",
   "metadata": {},
   "source": [
    "#### <span style=\"color:skyblue\">Observations</span>\n",
    "<div style=\"border-radius: 15px; border: 3px solid skyblue; padding: 15px;\">\n",
    "    \n",
    "    This is an improved score over the previous Logistic Regression models, but still no where close to the performance we are looking for"
   ]
  },
  {
   "cell_type": "code",
   "execution_count": 59,
   "metadata": {},
   "outputs": [],
   "source": [
    "#start the process over with the same function, but with a fraction of 0.5\n",
    "features_downsampled_5,target_downsampled_5 = downsample(features_train,target_train,0.5)"
   ]
  },
  {
   "cell_type": "code",
   "execution_count": 60,
   "metadata": {},
   "outputs": [],
   "source": [
    "#create and train new model\n",
    "downsample_model_lr = model_lr_balanced\n",
    "downsample_model_lr.fit(features_downsampled_5,target_downsampled_5)\n",
    "predictions_down = downsample_model_lr.predict(features_valid)"
   ]
  },
  {
   "cell_type": "code",
   "execution_count": 61,
   "metadata": {},
   "outputs": [
    {
     "data": {
      "image/png": "[encoded data removed]",
      "text/plain": [
       "<Figure size 576x432 with 2 Axes>"
      ]
     },
     "metadata": {
      "needs_background": "light"
     },
     "output_type": "display_data"
    }
   ],
   "source": [
    "#plot a confusion matrix, check precision, recall and f1 scores\n",
    "conf_mat_down = confusion_matrix(target_valid,predictions_down)\n",
    "\n",
    "plt.figure(figsize=(8, 6))\n",
    "sns.heatmap(conf_mat_down, annot=True, cmap='Reds', fmt='g', \n",
    "            xticklabels=['False Negative', 'False Positive'],\n",
    "            yticklabels=['True Negative', 'True Positive'])\n",
    "plt.xlabel('Predicted Label')\n",
    "plt.ylabel('True Label')\n",
    "plt.title('Confusion Matrix')\n",
    "plt.show()"
   ]
  },
  {
   "cell_type": "code",
   "execution_count": 62,
   "metadata": {},
   "outputs": [
    {
     "name": "stdout",
     "output_type": "stream",
     "text": [
      "F1 Score after downsampling by 0.5: 0.49809160305343503\n"
     ]
    }
   ],
   "source": [
    "#get new F1 score\n",
    "print('F1 Score after downsampling by 0.5:',f1_score(target_valid,predictions_down))"
   ]
  },
  {
   "cell_type": "markdown",
   "metadata": {},
   "source": [
    "#### <span style=\"color:skyblue\">Observations</span>\n",
    "<div style=\"border-radius: 15px; border: 3px solid skyblue; padding: 15px;\">\n",
    "    \n",
    "    This is a similar score to previous models and shows that Downsampling doesn't help the Logistic Regression model either."
   ]
  },
  {
   "cell_type": "markdown",
   "metadata": {},
   "source": [
    "#### Random Forest with Downsampling"
   ]
  },
  {
   "cell_type": "code",
   "execution_count": 63,
   "metadata": {},
   "outputs": [],
   "source": [
    "#Test both downsampled sets on our Random Forest model\n",
    "#create and train new model\n",
    "downsample_model_rf = model_rf_balanced\n",
    "downsample_model_rf.fit(features_downsampled_1,target_downsampled_1)\n",
    "predictions_down_rf = downsample_model_rf.predict(features_valid)"
   ]
  },
  {
   "cell_type": "code",
   "execution_count": 64,
   "metadata": {},
   "outputs": [
    {
     "data": {
      "image/png": "[encoded data removed]",
      "text/plain": [
       "<Figure size 576x432 with 2 Axes>"
      ]
     },
     "metadata": {
      "needs_background": "light"
     },
     "output_type": "display_data"
    }
   ],
   "source": [
    "#plot a confusion matrix, check precision, recall and f1 scores\n",
    "conf_mat_down_rf = confusion_matrix(target_valid,predictions_down_rf)\n",
    "\n",
    "plt.figure(figsize=(8, 6))\n",
    "sns.heatmap(conf_mat_down_rf, annot=True, cmap='Reds', fmt='g', \n",
    "            xticklabels=['False Negative', 'False Positive'],\n",
    "            yticklabels=['True Negative', 'True Positive'])\n",
    "plt.xlabel('Predicted Label')\n",
    "plt.ylabel('True Label')\n",
    "plt.title('Confusion Matrix')\n",
    "plt.show()"
   ]
  },
  {
   "cell_type": "code",
   "execution_count": 65,
   "metadata": {},
   "outputs": [
    {
     "name": "stdout",
     "output_type": "stream",
     "text": [
      "F1 Score after downsampling by 0.5: 0.513816280806572\n"
     ]
    }
   ],
   "source": [
    "#get new F1 score\n",
    "print('F1 Score after downsampling by 0.5:',f1_score(target_valid,predictions_down_rf))"
   ]
  },
  {
   "cell_type": "code",
   "execution_count": 66,
   "metadata": {},
   "outputs": [],
   "source": [
    "#Now try with 0.5 downsampling\n",
    "\n",
    "#create and train new model\n",
    "downsample_model_rf = model_rf_balanced\n",
    "downsample_model_rf.fit(features_downsampled_5,target_downsampled_5)\n",
    "predictions_down_rf = downsample_model_rf.predict(features_valid)"
   ]
  },
  {
   "cell_type": "code",
   "execution_count": 67,
   "metadata": {},
   "outputs": [
    {
     "data": {
      "image/png": "[encoded data removed]",
      "text/plain": [
       "<Figure size 576x432 with 2 Axes>"
      ]
     },
     "metadata": {
      "needs_background": "light"
     },
     "output_type": "display_data"
    }
   ],
   "source": [
    "#plot a confusion matrix, check precision, recall and f1 scores\n",
    "conf_mat_down_rf = confusion_matrix(target_valid,predictions_down_rf)\n",
    "\n",
    "plt.figure(figsize=(8, 6))\n",
    "sns.heatmap(conf_mat_down_rf, annot=True, cmap='Reds', fmt='g', \n",
    "            xticklabels=['False Negative', 'False Positive'],\n",
    "            yticklabels=['True Negative', 'True Positive'])\n",
    "plt.xlabel('Predicted Label')\n",
    "plt.ylabel('True Label')\n",
    "plt.title('Confusion Matrix')\n",
    "plt.show()"
   ]
  },
  {
   "cell_type": "code",
   "execution_count": 68,
   "metadata": {},
   "outputs": [
    {
     "name": "stdout",
     "output_type": "stream",
     "text": [
      "F1 Score after downsampling by 0.5: 0.6164874551971327\n"
     ]
    }
   ],
   "source": [
    "#get new F1 score\n",
    "print('F1 Score after downsampling by 0.5:',f1_score(target_valid,predictions_down_rf))"
   ]
  },
  {
   "cell_type": "markdown",
   "metadata": {},
   "source": [
    "#### <span style=\"color:skyblue\">Observations</span>\n",
    "<div style=\"border-radius: 15px; border: 3px solid skyblue; padding: 15px;\">\n",
    "    \n",
    "    The fraction of 0.1 tanked the performance of the Random Forest model and introduced way too many False Positives. The fraction of 0.5 kept the score around the same as our initial model, so this was not needed.\n",
    "    \n",
    "    Overall, the Upsampled Random Forest Classifier after class balancing performed the best at a score of 0.62 and will be used for final testing with the testing + validation sets."
   ]
  },
  {
   "cell_type": "markdown",
   "metadata": {},
   "source": [
    "### Final Testing"
   ]
  },
  {
   "cell_type": "code",
   "execution_count": 69,
   "metadata": {},
   "outputs": [],
   "source": [
    "#I will use my upsampled training sets to train my final model: a balanced class weight random forest classifier\n",
    "#combine test and validation datasets\n",
    "features_test_valid = pd.concat([features_test,features_valid])\n",
    "target_test_valid = pd.concat([target_test,target_valid])\n",
    "\n",
    "#create new model\n",
    "best_model = model_rf_balanced\n",
    "\n",
    "#train model and get predictions\n",
    "best_model.fit(features_upsampled,target_upsampled)\n",
    "predictions_test_valid = pd.Series(best_model.predict(features_test_valid))"
   ]
  },
  {
   "cell_type": "code",
   "execution_count": 70,
   "metadata": {},
   "outputs": [
    {
     "name": "stdout",
     "output_type": "stream",
     "text": [
      "0.0    0.730286\n",
      "1.0    0.269714\n",
      "dtype: float64\n"
     ]
    },
    {
     "data": {
      "text/plain": [
       "<AxesSubplot:>"
      ]
     },
     "execution_count": 70,
     "metadata": {},
     "output_type": "execute_result"
    },
    {
     "data": {
      "image/png": "[encoded data removed]",
      "text/plain": [
       "<Figure size 432x288 with 1 Axes>"
      ]
     },
     "metadata": {
      "needs_background": "light"
     },
     "output_type": "display_data"
    }
   ],
   "source": [
    "#count classes in the target feature\n",
    "class_frequency = predictions_test_valid.value_counts(normalize=True)\n",
    "\n",
    "print(class_frequency)\n",
    "\n",
    "class_frequency.plot(kind='bar')"
   ]
  },
  {
   "cell_type": "markdown",
   "metadata": {},
   "source": [
    "We see here that the model has been trained to predict the common class way less than before."
   ]
  },
  {
   "cell_type": "code",
   "execution_count": 71,
   "metadata": {},
   "outputs": [
    {
     "data": {
      "image/png": "[encoded data removed]",
      "text/plain": [
       "<Figure size 576x432 with 2 Axes>"
      ]
     },
     "metadata": {
      "needs_background": "light"
     },
     "output_type": "display_data"
    }
   ],
   "source": [
    "#plot a confusion matrix, check precision, recall and f1 scores\n",
    "conf_mat_best = confusion_matrix(target_test_valid,predictions_test_valid)\n",
    "\n",
    "plt.figure(figsize=(8, 6))\n",
    "sns.heatmap(conf_mat_best, annot=True, cmap='Reds', fmt='g', \n",
    "            xticklabels=['False Negative', 'False Positive'],\n",
    "            yticklabels=['True Negative', 'True Positive'])\n",
    "plt.xlabel('Predicted Label')\n",
    "plt.ylabel('True Label')\n",
    "plt.title('Confusion Matrix')\n",
    "plt.show()"
   ]
  },
  {
   "cell_type": "code",
   "execution_count": 72,
   "metadata": {},
   "outputs": [
    {
     "name": "stdout",
     "output_type": "stream",
     "text": [
      "Recall: 0.7147540983606557\n",
      "Precision: 0.5542372881355933\n",
      "F1 Score: 0.6243436754176611\n"
     ]
    }
   ],
   "source": [
    "print('Recall:',recall_score(target_test_valid,predictions_test_valid))\n",
    "print('Precision:',precision_score(target_test_valid,predictions_test_valid))\n",
    "print('F1 Score:',f1_score(target_test_valid,predictions_test_valid))"
   ]
  },
  {
   "cell_type": "markdown",
   "metadata": {},
   "source": [
    "#### <span style=\"color:skyblue\">Observations</span>\n",
    "<div style=\"border-radius: 15px; border: 3px solid skyblue; padding: 15px;\">\n",
    " \n",
    "**Confusion Matrix**: Compared to the initial confusion matric, there's less false negatives, but a bit more false positives. The amount of True Positive's outweigh the False Negatives now, though.\n",
    "\n",
    "**Recall**: This is a huge improvement over the initial model. Our larger recall score indicates that the model is better at identifying positive instances correctly.\n",
    "    \n",
    "**Precision**: As we can see in our confusion matrix, our model is now more prone to False Positives. In our case, it is okay to have more False Positives, we care more about correctly predicting customers leaving.\n",
    "\n",
    "**F1**: Overall, Our model's F1 score increased by 0.08 over the initial. The model is able to predict both positive and negative much more accurately. It has a much better perforamnce over the initial model."
   ]
  },
  {
   "cell_type": "markdown",
   "metadata": {},
   "source": [
    "## Conclusion"
   ]
  },
  {
   "cell_type": "markdown",
   "metadata": {},
   "source": [
    "<div style=\"border-radius: 15px; border: 3px solid skyblue; padding: 15px;\">\n",
    "    \n",
    "To summarize:\n",
    "    \n",
    "    1. I found the most accurate model using a function to pick the best hyperparamters for Random Forest Classifier and Logistic Regression models from a range.\n",
    "    \n",
    "    2. I ignored class imbalance and trained these models and checked the metrics of their performances. I had an F1 score of 0.54 for the Random Forest and .24 for the Logistic Regression.\n",
    "    \n",
    "    3. I balanced the weight classes as my first step to improve the models, I doubled the score of the Logistic Regression model and increased the performance of the Random Forest model considerably.\n",
    "    \n",
    "    3. The Logistic Regression model needed a lot of work, but the Random Forest model had already passed our threshold of 0.59, I took steps to improve both of them.\n",
    "    \n",
    "    4. I reached a 0.5 F1 score with the Logistic Regression model after trying balancing, upsampling, and downsampling. I went with the Random Forest model for which I had achieved a 0.62 score after balancing and upsampling.\n",
    "    \n",
    "    5. I picked the Random Forest model and performed a final test using the test + validation datasets and accomplished a 0.62 F1 score. \n",
    "    \n",
    "    6. I interpreted my results in my observations\n",
    "    \n",
    "    \n",
    "I displayed how upsampling and downsampling can be used to improve a model's performance. An F1 score of 0.62 suggests that the model achieved a reasonable balance between correctly identifying positive instances and minimizing false positives. I did this with a small dataset. Small datasets may limit the model's ability to capture complex patterns and generalize to unseen data, potentially affecting the reliability of the results.\n",
    "    \n",
    "***The Task***\n",
    "    \n",
    "I made an effort to accurately predict whether a customer would stay or leave the bank. False negatives would have been dangerous here and False positives would have been less impactful. I was able to minimize our False negatives while greatly increasing True Positives and Negatives and increasing False Positives. This should be able to help the bank gauge which customers may be on their way out."
   ]
  }
 ],
 "metadata": {
  "kernelspec": {
   "display_name": "Python 3 (ipykernel)",
   "language": "python",
   "name": "python3"
  },
  "language_info": {
   "codemirror_mode": {
    "name": "ipython",
    "version": 3
   },
   "file_extension": ".py",
   "mimetype": "text/x-python",
   "name": "python",
   "nbconvert_exporter": "python",
   "pygments_lexer": "ipython3",
   "version": "3.9.5"
  },
  "toc": {
   "base_numbering": 1,
   "nav_menu": {},
   "number_sections": true,
   "sideBar": true,
   "skip_h1_title": true,
   "title_cell": "Table of Contents",
   "title_sidebar": "Contents",
   "toc_cell": false,
   "toc_position": {},
   "toc_section_display": true,
   "toc_window_display": true
  }
 },
 "nbformat": 4,
 "nbformat_minor": 2
}
